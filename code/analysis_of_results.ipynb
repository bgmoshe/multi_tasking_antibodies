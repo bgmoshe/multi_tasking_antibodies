{
  "nbformat": 4,
  "nbformat_minor": 0,
  "metadata": {
    "colab": {
      "name": "analysis of results.ipynb",
      "provenance": [],
      "collapsed_sections": [
        "lJ7DRaWkGVy_",
        "Ea0P2zSJGc3-",
        "UlfDGZ_mGg4g",
        "frICbG_SNP_A",
        "sMWcIlKr4rbG",
        "94rXKhE04uE-",
        "OFpCGGf-1dug",
        "vnafC1YRkzP0",
        "HdtefxufI4vS"
      ]
    },
    "kernelspec": {
      "name": "python3",
      "display_name": "Python 3"
    },
    "language_info": {
      "name": "python"
    }
  },
  "cells": [
    {
      "cell_type": "markdown",
      "metadata": {
        "id": "lJ7DRaWkGVy_"
      },
      "source": [
        "# Imports and Common definitions"
      ]
    },
    {
      "cell_type": "code",
      "metadata": {
        "id": "D6csRbKbFiyr"
      },
      "source": [
        "import pandas as pd\n",
        "import numpy as np\n",
        "from matplotlib import pyplot as plt\n",
        "import scipy\n",
        "import scipy.stats\n",
        "import pickle\n",
        "import seaborn as sns"
      ],
      "execution_count": null,
      "outputs": []
    },
    {
      "cell_type": "code",
      "metadata": {
        "id": "O8KntM5FGFTb"
      },
      "source": [
        "mount_google_drive = True"
      ],
      "execution_count": null,
      "outputs": []
    },
    {
      "cell_type": "code",
      "metadata": {
        "colab": {
          "base_uri": "https://localhost:8080/"
        },
        "id": "K4kbs54DFqWZ",
        "outputId": "dfebd12a-ce4e-4bbd-8a3d-fe5be04510a2"
      },
      "source": [
        "if mount_google_drive:\n",
        "  from google.colab import drive\n",
        "  drive.mount('/content/gdrive')"
      ],
      "execution_count": null,
      "outputs": [
        {
          "output_type": "stream",
          "text": [
            "Mounted at /content/gdrive\n"
          ],
          "name": "stdout"
        }
      ]
    },
    {
      "cell_type": "code",
      "metadata": {
        "id": "LXeRZJShF3qK"
      },
      "source": [
        "data_folder = \"/content/gdrive/MyDrive/COVID19-MSC\"\n",
        "csvs_folder = f\"{data_folder}/data\""
      ],
      "execution_count": null,
      "outputs": []
    },
    {
      "cell_type": "markdown",
      "metadata": {
        "id": "Ea0P2zSJGc3-"
      },
      "source": [
        "# Functions for Analysis"
      ]
    },
    {
      "cell_type": "code",
      "metadata": {
        "id": "HZ69hFP8GSqc"
      },
      "source": [
        "def unpickle(pickle_filename):\n",
        "  res = None\n",
        "  with open(pickle_filename, 'rb') as infile:\n",
        "    res = pickle.load(infile)\n",
        "  return res"
      ],
      "execution_count": null,
      "outputs": []
    },
    {
      "cell_type": "code",
      "metadata": {
        "id": "plddEkWMBWhF"
      },
      "source": [
        "def numpy_corr(y_true, y_pred):\n",
        "  corrs = list()\n",
        "  for i in range(y_true.shape[1]):\n",
        "    y_true_temp = np.squeeze(y_true[:, i])\n",
        "    y_pred_temp = np.squeeze(y_pred[i])\n",
        "    corrs.append(np.corrcoef([y_true_temp, y_pred_temp])[0][1])\n",
        "  corrs = np.array(corrs)\n",
        "  return corrs\n",
        "\n",
        "def corr_of_vals(data):\n",
        "  val_data = np.array(\n",
        "      list(\n",
        "          map(\n",
        "              lambda _ : numpy_corr(_[1], _[2]),\n",
        "              data)\n",
        "          )\n",
        "      )\n",
        "  return val_data\n",
        "\n",
        "def val_bce_calc(y_true, y_pred):\n",
        "  bces_list = list()\n",
        "  bce = lambda true, pred: -true*np.log(pred) - (1-true)*np.log(1-pred)\n",
        "  for i in range(y_true.shape[1]):\n",
        "    y_true_temp = np.squeeze(y_true[:, i])\n",
        "    y_pred_temp = np.squeeze(y_pred[i])\n",
        "    bces_list.append(bce(y_true_temp, y_pred_temp).mean())\n",
        "  bces_list = np.array(bces_list)\n",
        "  return bces_list\n",
        "\n",
        "def bce_of_vals(data):\n",
        "  val_data = np.array(\n",
        "      list(\n",
        "          map(\n",
        "              lambda _: val_bce_calc(_[1], _[2]) ,#(-_[1]*np.log(_[2])-(1-_[1])*np.log(1-_[2])).mean(),\n",
        "              data)\n",
        "          )\n",
        "      )\n",
        "  return val_data\n"
      ],
      "execution_count": null,
      "outputs": []
    },
    {
      "cell_type": "code",
      "metadata": {
        "id": "F8mjxQiCBaMw"
      },
      "source": [
        "def get_covid19_antibodes():\n",
        "    return [\n",
        "            'COV2-2050_400_escape',\n",
        "            'COV2-2832_400_escape',\n",
        "            'COV2-2165_400_escape',\n",
        "            'COV2-2479_400_escape',\n",
        "            'COV2-2096_400_escape',\n",
        "            'COV2-2499_400_escape',\n",
        "            'COV2-2082_400_escape',\n",
        "            'COV2-2677_400_escape',\n",
        "            'COV2-2094_400_escape'\n",
        "            ]"
      ],
      "execution_count": null,
      "outputs": []
    },
    {
      "cell_type": "markdown",
      "metadata": {
        "id": "UlfDGZ_mGg4g"
      },
      "source": [
        "#Data Analysis"
      ]
    },
    {
      "cell_type": "markdown",
      "metadata": {
        "id": "frICbG_SNP_A"
      },
      "source": [
        "## Data Visualization"
      ]
    },
    {
      "cell_type": "code",
      "metadata": {
        "id": "KVG7C56LNPIH"
      },
      "source": [
        "bind_and_antibody_df_file = f\"{csvs_folder}/starr2020_binding_and_escapes.csv\"\n",
        "bind_and_antibody_df = pd.read_csv(bind_and_antibody_df_file)"
      ],
      "execution_count": null,
      "outputs": []
    },
    {
      "cell_type": "code",
      "metadata": {
        "id": "w1vncODgOnx_"
      },
      "source": [
        "bind_and_antibody_df = bind_and_antibody_df.drop('Unnamed: 0', axis=1)"
      ],
      "execution_count": null,
      "outputs": []
    },
    {
      "cell_type": "markdown",
      "metadata": {
        "id": "Jjw1Ont8OG-W"
      },
      "source": [
        "As you can see bellow - the antibody data is very skewed."
      ]
    },
    {
      "cell_type": "code",
      "metadata": {
        "colab": {
          "base_uri": "https://localhost:8080/"
        },
        "id": "sJ5O4S1ZN_eY",
        "outputId": "6ad59e8c-8f45-4b21-82d0-0c8581b142f9"
      },
      "source": [
        "bind_and_antibody_df.skew()"
      ],
      "execution_count": null,
      "outputs": [
        {
          "output_type": "execute_result",
          "data": {
            "text/plain": [
              "site                    -0.030398\n",
              "bind_avg                -2.554307\n",
              "expr_avg                -0.619298\n",
              "COV2-2050_400_escape    10.502013\n",
              "COV2-2082_400_escape    11.782447\n",
              "COV2-2094_400_escape    14.172642\n",
              "COV2-2096_400_escape     6.394536\n",
              "COV2-2165_400_escape    14.440290\n",
              "COV2-2479_400_escape    15.458416\n",
              "COV2-2499_400_escape     5.215478\n",
              "COV2-2677_400_escape     7.442261\n",
              "COV2-2832_400_escape    10.335189\n",
              "CR3022_400_escape        4.936991\n",
              "dtype: float64"
            ]
          },
          "metadata": {
            "tags": []
          },
          "execution_count": 10
        }
      ]
    },
    {
      "cell_type": "code",
      "metadata": {
        "id": "vv4sCU9WoaYY"
      },
      "source": [
        "only_antibodies = bind_and_antibody_df[\n",
        "                                       [\n",
        "                                        \"COV2-2050_400_escape\",\n",
        "                                        \"COV2-2082_400_escape\",\n",
        "                                        \"COV2-2094_400_escape\",\n",
        "                                        \"COV2-2096_400_escape\",\n",
        "                                        \"COV2-2165_400_escape\",\n",
        "                                        \"COV2-2479_400_escape\",\n",
        "                                        \"COV2-2499_400_escape\",\n",
        "                                        \"COV2-2677_400_escape\",\n",
        "                                        \"COV2-2832_400_escape\",\n",
        "                                        ]\n",
        "                                       ]"
      ],
      "execution_count": null,
      "outputs": []
    },
    {
      "cell_type": "markdown",
      "metadata": {
        "id": "vMa1RsQ7OQLC"
      },
      "source": [
        "We suspect that multi task might help some antibodies as you can see that some do possess positive correlation with others."
      ]
    },
    {
      "cell_type": "code",
      "metadata": {
        "colab": {
          "base_uri": "https://localhost:8080/",
          "height": 525
        },
        "id": "jGSKIYZYOEU6",
        "outputId": "9878bd65-e5cb-4d42-99db-b967b147a8eb"
      },
      "source": [
        "only_antibodies.corr()"
      ],
      "execution_count": null,
      "outputs": [
        {
          "output_type": "execute_result",
          "data": {
            "text/html": [
              "<div>\n",
              "<style scoped>\n",
              "    .dataframe tbody tr th:only-of-type {\n",
              "        vertical-align: middle;\n",
              "    }\n",
              "\n",
              "    .dataframe tbody tr th {\n",
              "        vertical-align: top;\n",
              "    }\n",
              "\n",
              "    .dataframe thead th {\n",
              "        text-align: right;\n",
              "    }\n",
              "</style>\n",
              "<table border=\"1\" class=\"dataframe\">\n",
              "  <thead>\n",
              "    <tr style=\"text-align: right;\">\n",
              "      <th></th>\n",
              "      <th>COV2-2050_400_escape</th>\n",
              "      <th>COV2-2082_400_escape</th>\n",
              "      <th>COV2-2094_400_escape</th>\n",
              "      <th>COV2-2096_400_escape</th>\n",
              "      <th>COV2-2165_400_escape</th>\n",
              "      <th>COV2-2479_400_escape</th>\n",
              "      <th>COV2-2499_400_escape</th>\n",
              "      <th>COV2-2677_400_escape</th>\n",
              "      <th>COV2-2832_400_escape</th>\n",
              "    </tr>\n",
              "  </thead>\n",
              "  <tbody>\n",
              "    <tr>\n",
              "      <th>COV2-2050_400_escape</th>\n",
              "      <td>1.000000</td>\n",
              "      <td>-0.008296</td>\n",
              "      <td>-0.006472</td>\n",
              "      <td>0.193553</td>\n",
              "      <td>0.002644</td>\n",
              "      <td>0.727332</td>\n",
              "      <td>-0.019089</td>\n",
              "      <td>-0.010496</td>\n",
              "      <td>0.128674</td>\n",
              "    </tr>\n",
              "    <tr>\n",
              "      <th>COV2-2082_400_escape</th>\n",
              "      <td>-0.008296</td>\n",
              "      <td>1.000000</td>\n",
              "      <td>0.818400</td>\n",
              "      <td>-0.013384</td>\n",
              "      <td>-0.000711</td>\n",
              "      <td>0.003064</td>\n",
              "      <td>-0.011857</td>\n",
              "      <td>0.282353</td>\n",
              "      <td>-0.010874</td>\n",
              "    </tr>\n",
              "    <tr>\n",
              "      <th>COV2-2094_400_escape</th>\n",
              "      <td>-0.006472</td>\n",
              "      <td>0.818400</td>\n",
              "      <td>1.000000</td>\n",
              "      <td>-0.008345</td>\n",
              "      <td>-0.004256</td>\n",
              "      <td>0.007439</td>\n",
              "      <td>-0.017348</td>\n",
              "      <td>0.392172</td>\n",
              "      <td>-0.012055</td>\n",
              "    </tr>\n",
              "    <tr>\n",
              "      <th>COV2-2096_400_escape</th>\n",
              "      <td>0.193553</td>\n",
              "      <td>-0.013384</td>\n",
              "      <td>-0.008345</td>\n",
              "      <td>1.000000</td>\n",
              "      <td>-0.012604</td>\n",
              "      <td>0.248394</td>\n",
              "      <td>0.128220</td>\n",
              "      <td>-0.017114</td>\n",
              "      <td>-0.007156</td>\n",
              "    </tr>\n",
              "    <tr>\n",
              "      <th>COV2-2165_400_escape</th>\n",
              "      <td>0.002644</td>\n",
              "      <td>-0.000711</td>\n",
              "      <td>-0.004256</td>\n",
              "      <td>-0.012604</td>\n",
              "      <td>1.000000</td>\n",
              "      <td>-0.002941</td>\n",
              "      <td>-0.012502</td>\n",
              "      <td>-0.006359</td>\n",
              "      <td>0.165999</td>\n",
              "    </tr>\n",
              "    <tr>\n",
              "      <th>COV2-2479_400_escape</th>\n",
              "      <td>0.727332</td>\n",
              "      <td>0.003064</td>\n",
              "      <td>0.007439</td>\n",
              "      <td>0.248394</td>\n",
              "      <td>-0.002941</td>\n",
              "      <td>1.000000</td>\n",
              "      <td>-0.013114</td>\n",
              "      <td>0.007322</td>\n",
              "      <td>0.124557</td>\n",
              "    </tr>\n",
              "    <tr>\n",
              "      <th>COV2-2499_400_escape</th>\n",
              "      <td>-0.019089</td>\n",
              "      <td>-0.011857</td>\n",
              "      <td>-0.017348</td>\n",
              "      <td>0.128220</td>\n",
              "      <td>-0.012502</td>\n",
              "      <td>-0.013114</td>\n",
              "      <td>1.000000</td>\n",
              "      <td>-0.026269</td>\n",
              "      <td>-0.017387</td>\n",
              "    </tr>\n",
              "    <tr>\n",
              "      <th>COV2-2677_400_escape</th>\n",
              "      <td>-0.010496</td>\n",
              "      <td>0.282353</td>\n",
              "      <td>0.392172</td>\n",
              "      <td>-0.017114</td>\n",
              "      <td>-0.006359</td>\n",
              "      <td>0.007322</td>\n",
              "      <td>-0.026269</td>\n",
              "      <td>1.000000</td>\n",
              "      <td>-0.014940</td>\n",
              "    </tr>\n",
              "    <tr>\n",
              "      <th>COV2-2832_400_escape</th>\n",
              "      <td>0.128674</td>\n",
              "      <td>-0.010874</td>\n",
              "      <td>-0.012055</td>\n",
              "      <td>-0.007156</td>\n",
              "      <td>0.165999</td>\n",
              "      <td>0.124557</td>\n",
              "      <td>-0.017387</td>\n",
              "      <td>-0.014940</td>\n",
              "      <td>1.000000</td>\n",
              "    </tr>\n",
              "  </tbody>\n",
              "</table>\n",
              "</div>"
            ],
            "text/plain": [
              "                      COV2-2050_400_escape  ...  COV2-2832_400_escape\n",
              "COV2-2050_400_escape              1.000000  ...              0.128674\n",
              "COV2-2082_400_escape             -0.008296  ...             -0.010874\n",
              "COV2-2094_400_escape             -0.006472  ...             -0.012055\n",
              "COV2-2096_400_escape              0.193553  ...             -0.007156\n",
              "COV2-2165_400_escape              0.002644  ...              0.165999\n",
              "COV2-2479_400_escape              0.727332  ...              0.124557\n",
              "COV2-2499_400_escape             -0.019089  ...             -0.017387\n",
              "COV2-2677_400_escape             -0.010496  ...             -0.014940\n",
              "COV2-2832_400_escape              0.128674  ...              1.000000\n",
              "\n",
              "[9 rows x 9 columns]"
            ]
          },
          "metadata": {
            "tags": []
          },
          "execution_count": 12
        }
      ]
    },
    {
      "cell_type": "markdown",
      "metadata": {
        "id": "yXar5juoPplD"
      },
      "source": [
        "Since the data is very skewed, we plot the histogram with y axis in log scale."
      ]
    },
    {
      "cell_type": "code",
      "metadata": {
        "colab": {
          "base_uri": "https://localhost:8080/",
          "height": 1000
        },
        "id": "otBx-0PPOYdu",
        "outputId": "2e584240-508e-4310-bf4e-4873a2571b4f"
      },
      "source": [
        "bind_and_antibody_df.drop(\"site\", axis=1).hist(figsize=(20,20), \n",
        "                                               bins=100, \n",
        "                                               log=True)\n",
        "print()"
      ],
      "execution_count": null,
      "outputs": [
        {
          "output_type": "stream",
          "text": [
            "\n"
          ],
          "name": "stdout"
        },
        {
          "output_type": "display_data",
          "data": {
            "image/png": "[encoded data removed]",
            "text/plain": [
              "<Figure size 1440x1440 with 12 Axes>"
            ]
          },
          "metadata": {
            "tags": [],
            "needs_background": "light"
          }
        }
      ]
    },
    {
      "cell_type": "code",
      "metadata": {
        "colab": {
          "base_uri": "https://localhost:8080/"
        },
        "id": "_4yB_7bvhM0-",
        "outputId": "434c4b79-6f48-473a-adc0-291f72aa1691"
      },
      "source": [
        "cols = [\n",
        "        \"COV2-2050_400_escape\",\n",
        "        \"COV2-2082_400_escape\",\n",
        "        \"COV2-2094_400_escape\",\n",
        "        \"COV2-2096_400_escape\",\n",
        "        \"COV2-2165_400_escape\",\n",
        "        \"COV2-2479_400_escape\",\n",
        "        \"COV2-2499_400_escape\",\n",
        "        \"COV2-2677_400_escape\",\n",
        "        \"COV2-2832_400_escape\",\n",
        "]\n",
        "q = bind_and_antibody_df[cols].quantile(0.95)\n",
        "inds = (bind_and_antibody_df[cols] > q).any(axis=1)\n",
        "#inds = np.repeat(inds, 19)\n",
        "inds.describe()"
      ],
      "execution_count": null,
      "outputs": [
        {
          "output_type": "execute_result",
          "data": {
            "text/plain": [
              "count      2366\n",
              "unique        2\n",
              "top       False\n",
              "freq       1662\n",
              "dtype: object"
            ]
          },
          "metadata": {
            "tags": []
          },
          "execution_count": 14
        }
      ]
    },
    {
      "cell_type": "code",
      "metadata": {
        "colab": {
          "base_uri": "https://localhost:8080/",
          "height": 461
        },
        "id": "Bx9rcY_lu9Sm",
        "outputId": "4d2664a1-c02c-4c54-a85e-b0992171306f"
      },
      "source": [
        "bind_and_antibody_df[cols]"
      ],
      "execution_count": null,
      "outputs": [
        {
          "output_type": "execute_result",
          "data": {
            "text/html": [
              "<div>\n",
              "<style scoped>\n",
              "    .dataframe tbody tr th:only-of-type {\n",
              "        vertical-align: middle;\n",
              "    }\n",
              "\n",
              "    .dataframe tbody tr th {\n",
              "        vertical-align: top;\n",
              "    }\n",
              "\n",
              "    .dataframe thead th {\n",
              "        text-align: right;\n",
              "    }\n",
              "</style>\n",
              "<table border=\"1\" class=\"dataframe\">\n",
              "  <thead>\n",
              "    <tr style=\"text-align: right;\">\n",
              "      <th></th>\n",
              "      <th>COV2-2050_400_escape</th>\n",
              "      <th>COV2-2082_400_escape</th>\n",
              "      <th>COV2-2094_400_escape</th>\n",
              "      <th>COV2-2096_400_escape</th>\n",
              "      <th>COV2-2165_400_escape</th>\n",
              "      <th>COV2-2479_400_escape</th>\n",
              "      <th>COV2-2499_400_escape</th>\n",
              "      <th>COV2-2677_400_escape</th>\n",
              "      <th>COV2-2832_400_escape</th>\n",
              "    </tr>\n",
              "  </thead>\n",
              "  <tbody>\n",
              "    <tr>\n",
              "      <th>0</th>\n",
              "      <td>0.000520</td>\n",
              "      <td>0.000966</td>\n",
              "      <td>0.000645</td>\n",
              "      <td>0.000430</td>\n",
              "      <td>0.000853</td>\n",
              "      <td>0.000116</td>\n",
              "      <td>0.000835</td>\n",
              "      <td>0.000677</td>\n",
              "      <td>0.000954</td>\n",
              "    </tr>\n",
              "    <tr>\n",
              "      <th>1</th>\n",
              "      <td>0.001027</td>\n",
              "      <td>0.003825</td>\n",
              "      <td>0.001350</td>\n",
              "      <td>0.001237</td>\n",
              "      <td>0.001763</td>\n",
              "      <td>0.000911</td>\n",
              "      <td>0.001527</td>\n",
              "      <td>0.001254</td>\n",
              "      <td>0.001804</td>\n",
              "    </tr>\n",
              "    <tr>\n",
              "      <th>2</th>\n",
              "      <td>0.001501</td>\n",
              "      <td>0.005344</td>\n",
              "      <td>0.001996</td>\n",
              "      <td>0.000400</td>\n",
              "      <td>0.002283</td>\n",
              "      <td>0.000786</td>\n",
              "      <td>0.001759</td>\n",
              "      <td>0.001806</td>\n",
              "      <td>0.002302</td>\n",
              "    </tr>\n",
              "    <tr>\n",
              "      <th>3</th>\n",
              "      <td>0.001433</td>\n",
              "      <td>0.001929</td>\n",
              "      <td>0.001778</td>\n",
              "      <td>0.001178</td>\n",
              "      <td>0.001704</td>\n",
              "      <td>0.000613</td>\n",
              "      <td>0.002303</td>\n",
              "      <td>0.001868</td>\n",
              "      <td>0.001905</td>\n",
              "    </tr>\n",
              "    <tr>\n",
              "      <th>4</th>\n",
              "      <td>0.001544</td>\n",
              "      <td>0.002498</td>\n",
              "      <td>0.002005</td>\n",
              "      <td>0.000745</td>\n",
              "      <td>0.001469</td>\n",
              "      <td>0.000544</td>\n",
              "      <td>0.002050</td>\n",
              "      <td>0.001913</td>\n",
              "      <td>0.001567</td>\n",
              "    </tr>\n",
              "    <tr>\n",
              "      <th>...</th>\n",
              "      <td>...</td>\n",
              "      <td>...</td>\n",
              "      <td>...</td>\n",
              "      <td>...</td>\n",
              "      <td>...</td>\n",
              "      <td>...</td>\n",
              "      <td>...</td>\n",
              "      <td>...</td>\n",
              "      <td>...</td>\n",
              "    </tr>\n",
              "    <tr>\n",
              "      <th>2361</th>\n",
              "      <td>0.002828</td>\n",
              "      <td>0.003554</td>\n",
              "      <td>0.002110</td>\n",
              "      <td>0.000663</td>\n",
              "      <td>0.001813</td>\n",
              "      <td>0.000691</td>\n",
              "      <td>0.002543</td>\n",
              "      <td>0.002898</td>\n",
              "      <td>0.002043</td>\n",
              "    </tr>\n",
              "    <tr>\n",
              "      <th>2362</th>\n",
              "      <td>0.001082</td>\n",
              "      <td>0.003879</td>\n",
              "      <td>0.001859</td>\n",
              "      <td>0.001385</td>\n",
              "      <td>0.001949</td>\n",
              "      <td>0.000769</td>\n",
              "      <td>0.001536</td>\n",
              "      <td>0.001430</td>\n",
              "      <td>0.002350</td>\n",
              "    </tr>\n",
              "    <tr>\n",
              "      <th>2363</th>\n",
              "      <td>0.000836</td>\n",
              "      <td>0.005417</td>\n",
              "      <td>0.001208</td>\n",
              "      <td>0.000585</td>\n",
              "      <td>0.002404</td>\n",
              "      <td>0.000532</td>\n",
              "      <td>0.002600</td>\n",
              "      <td>0.001354</td>\n",
              "      <td>0.002467</td>\n",
              "    </tr>\n",
              "    <tr>\n",
              "      <th>2364</th>\n",
              "      <td>0.002494</td>\n",
              "      <td>0.003683</td>\n",
              "      <td>0.002215</td>\n",
              "      <td>0.001027</td>\n",
              "      <td>0.002120</td>\n",
              "      <td>0.000896</td>\n",
              "      <td>0.002741</td>\n",
              "      <td>0.002042</td>\n",
              "      <td>0.002254</td>\n",
              "    </tr>\n",
              "    <tr>\n",
              "      <th>2365</th>\n",
              "      <td>0.001815</td>\n",
              "      <td>0.002116</td>\n",
              "      <td>0.003437</td>\n",
              "      <td>0.000762</td>\n",
              "      <td>0.001254</td>\n",
              "      <td>0.001185</td>\n",
              "      <td>0.001991</td>\n",
              "      <td>0.001374</td>\n",
              "      <td>0.001282</td>\n",
              "    </tr>\n",
              "  </tbody>\n",
              "</table>\n",
              "<p>2366 rows × 9 columns</p>\n",
              "</div>"
            ],
            "text/plain": [
              "      COV2-2050_400_escape  ...  COV2-2832_400_escape\n",
              "0                 0.000520  ...              0.000954\n",
              "1                 0.001027  ...              0.001804\n",
              "2                 0.001501  ...              0.002302\n",
              "3                 0.001433  ...              0.001905\n",
              "4                 0.001544  ...              0.001567\n",
              "...                    ...  ...                   ...\n",
              "2361              0.002828  ...              0.002043\n",
              "2362              0.001082  ...              0.002350\n",
              "2363              0.000836  ...              0.002467\n",
              "2364              0.002494  ...              0.002254\n",
              "2365              0.001815  ...              0.001282\n",
              "\n",
              "[2366 rows x 9 columns]"
            ]
          },
          "metadata": {
            "tags": []
          },
          "execution_count": 15
        }
      ]
    },
    {
      "cell_type": "code",
      "metadata": {
        "colab": {
          "base_uri": "https://localhost:8080/",
          "height": 1000
        },
        "id": "_Gn87tIYwStn",
        "outputId": "d9dd0065-f2f9-427e-f3d5-3c4fc75d97b9"
      },
      "source": [
        "f = bind_and_antibody_df[cols][inds].hist(figsize=(20,20), \n",
        "                                          bins=100,\n",
        "                                          log=True)\n",
        "[_.axvline(bind_and_antibody_df[col].quantile(0.95), color='m', linestyle='dashed') for _, col in zip(f.ravel(), cols)]\n",
        "print()"
      ],
      "execution_count": null,
      "outputs": [
        {
          "output_type": "stream",
          "text": [
            "\n"
          ],
          "name": "stdout"
        },
        {
          "output_type": "display_data",
          "data": {
            "image/png": "[encoded data removed]",
            "text/plain": [
              "<Figure size 1440x1440 with 9 Axes>"
            ]
          },
          "metadata": {
            "tags": [],
            "needs_background": "light"
          }
        }
      ]
    },
    {
      "cell_type": "code",
      "metadata": {
        "colab": {
          "base_uri": "https://localhost:8080/"
        },
        "id": "oMF4Tz7viVra",
        "outputId": "d9d0c972-1a0c-4b33-e90b-5346fff1bbc2"
      },
      "source": [
        "bind_and_antibody_df[cols][inds].skew()"
      ],
      "execution_count": null,
      "outputs": [
        {
          "output_type": "execute_result",
          "data": {
            "text/plain": [
              "COV2-2050_400_escape    5.567789\n",
              "COV2-2082_400_escape    6.313563\n",
              "COV2-2094_400_escape    7.698416\n",
              "COV2-2096_400_escape    3.212646\n",
              "COV2-2165_400_escape    7.800903\n",
              "COV2-2479_400_escape    8.348970\n",
              "COV2-2499_400_escape    2.497929\n",
              "COV2-2677_400_escape    3.816134\n",
              "COV2-2832_400_escape    5.486375\n",
              "dtype: float64"
            ]
          },
          "metadata": {
            "tags": []
          },
          "execution_count": 16
        }
      ]
    },
    {
      "cell_type": "code",
      "metadata": {
        "colab": {
          "base_uri": "https://localhost:8080/"
        },
        "id": "50ZR7S13vJVQ",
        "outputId": "a7634394-d0d4-4cde-a560-7cc7642b5f74"
      },
      "source": [
        "bind_and_antibody_df[cols].skew()"
      ],
      "execution_count": null,
      "outputs": [
        {
          "output_type": "execute_result",
          "data": {
            "text/plain": [
              "COV2-2050_400_escape    10.502013\n",
              "COV2-2082_400_escape    11.782447\n",
              "COV2-2094_400_escape    14.172642\n",
              "COV2-2096_400_escape     6.394536\n",
              "COV2-2165_400_escape    14.440290\n",
              "COV2-2479_400_escape    15.458416\n",
              "COV2-2499_400_escape     5.215478\n",
              "COV2-2677_400_escape     7.442261\n",
              "COV2-2832_400_escape    10.335189\n",
              "dtype: float64"
            ]
          },
          "metadata": {
            "tags": []
          },
          "execution_count": 17
        }
      ]
    },
    {
      "cell_type": "code",
      "metadata": {
        "colab": {
          "base_uri": "https://localhost:8080/",
          "height": 525
        },
        "id": "dCsJUn1Gvche",
        "outputId": "ebc36b92-91a9-4b9c-ae56-0d7c5d68851e"
      },
      "source": [
        "bind_and_antibody_df[inds][cols].corr()-bind_and_antibody_df[cols].corr()"
      ],
      "execution_count": null,
      "outputs": [
        {
          "output_type": "execute_result",
          "data": {
            "text/html": [
              "<div>\n",
              "<style scoped>\n",
              "    .dataframe tbody tr th:only-of-type {\n",
              "        vertical-align: middle;\n",
              "    }\n",
              "\n",
              "    .dataframe tbody tr th {\n",
              "        vertical-align: top;\n",
              "    }\n",
              "\n",
              "    .dataframe thead th {\n",
              "        text-align: right;\n",
              "    }\n",
              "</style>\n",
              "<table border=\"1\" class=\"dataframe\">\n",
              "  <thead>\n",
              "    <tr style=\"text-align: right;\">\n",
              "      <th></th>\n",
              "      <th>COV2-2050_400_escape</th>\n",
              "      <th>COV2-2082_400_escape</th>\n",
              "      <th>COV2-2094_400_escape</th>\n",
              "      <th>COV2-2096_400_escape</th>\n",
              "      <th>COV2-2165_400_escape</th>\n",
              "      <th>COV2-2479_400_escape</th>\n",
              "      <th>COV2-2499_400_escape</th>\n",
              "      <th>COV2-2677_400_escape</th>\n",
              "      <th>COV2-2832_400_escape</th>\n",
              "    </tr>\n",
              "  </thead>\n",
              "  <tbody>\n",
              "    <tr>\n",
              "      <th>COV2-2050_400_escape</th>\n",
              "      <td>0.000000</td>\n",
              "      <td>-0.033898</td>\n",
              "      <td>-0.036442</td>\n",
              "      <td>-0.043535</td>\n",
              "      <td>-0.027328</td>\n",
              "      <td>-0.005748</td>\n",
              "      <td>-0.065981</td>\n",
              "      <td>-0.047881</td>\n",
              "      <td>-0.032216</td>\n",
              "    </tr>\n",
              "    <tr>\n",
              "      <th>COV2-2082_400_escape</th>\n",
              "      <td>-0.033898</td>\n",
              "      <td>0.000000</td>\n",
              "      <td>-0.005380</td>\n",
              "      <td>-0.053477</td>\n",
              "      <td>-0.027281</td>\n",
              "      <td>-0.024523</td>\n",
              "      <td>-0.061990</td>\n",
              "      <td>-0.031273</td>\n",
              "      <td>-0.036212</td>\n",
              "    </tr>\n",
              "    <tr>\n",
              "      <th>COV2-2094_400_escape</th>\n",
              "      <td>-0.036442</td>\n",
              "      <td>-0.005380</td>\n",
              "      <td>0.000000</td>\n",
              "      <td>-0.057061</td>\n",
              "      <td>-0.028353</td>\n",
              "      <td>-0.025902</td>\n",
              "      <td>-0.067112</td>\n",
              "      <td>-0.028444</td>\n",
              "      <td>-0.038348</td>\n",
              "    </tr>\n",
              "    <tr>\n",
              "      <th>COV2-2096_400_escape</th>\n",
              "      <td>-0.043535</td>\n",
              "      <td>-0.053477</td>\n",
              "      <td>-0.057061</td>\n",
              "      <td>0.000000</td>\n",
              "      <td>-0.043346</td>\n",
              "      <td>-0.026792</td>\n",
              "      <td>-0.088777</td>\n",
              "      <td>-0.076036</td>\n",
              "      <td>-0.058831</td>\n",
              "    </tr>\n",
              "    <tr>\n",
              "      <th>COV2-2165_400_escape</th>\n",
              "      <td>-0.027328</td>\n",
              "      <td>-0.027281</td>\n",
              "      <td>-0.028353</td>\n",
              "      <td>-0.043346</td>\n",
              "      <td>0.000000</td>\n",
              "      <td>-0.020107</td>\n",
              "      <td>-0.050361</td>\n",
              "      <td>-0.036765</td>\n",
              "      <td>-0.024250</td>\n",
              "    </tr>\n",
              "    <tr>\n",
              "      <th>COV2-2479_400_escape</th>\n",
              "      <td>-0.005748</td>\n",
              "      <td>-0.024523</td>\n",
              "      <td>-0.025902</td>\n",
              "      <td>-0.026792</td>\n",
              "      <td>-0.020107</td>\n",
              "      <td>0.000000</td>\n",
              "      <td>-0.047325</td>\n",
              "      <td>-0.033818</td>\n",
              "      <td>-0.023314</td>\n",
              "    </tr>\n",
              "    <tr>\n",
              "      <th>COV2-2499_400_escape</th>\n",
              "      <td>-0.065981</td>\n",
              "      <td>-0.061990</td>\n",
              "      <td>-0.067112</td>\n",
              "      <td>-0.088777</td>\n",
              "      <td>-0.050361</td>\n",
              "      <td>-0.047325</td>\n",
              "      <td>0.000000</td>\n",
              "      <td>-0.089172</td>\n",
              "      <td>-0.069038</td>\n",
              "    </tr>\n",
              "    <tr>\n",
              "      <th>COV2-2677_400_escape</th>\n",
              "      <td>-0.047881</td>\n",
              "      <td>-0.031273</td>\n",
              "      <td>-0.028444</td>\n",
              "      <td>-0.076036</td>\n",
              "      <td>-0.036765</td>\n",
              "      <td>-0.033818</td>\n",
              "      <td>-0.089172</td>\n",
              "      <td>0.000000</td>\n",
              "      <td>-0.050430</td>\n",
              "    </tr>\n",
              "    <tr>\n",
              "      <th>COV2-2832_400_escape</th>\n",
              "      <td>-0.032216</td>\n",
              "      <td>-0.036212</td>\n",
              "      <td>-0.038348</td>\n",
              "      <td>-0.058831</td>\n",
              "      <td>-0.024250</td>\n",
              "      <td>-0.023314</td>\n",
              "      <td>-0.069038</td>\n",
              "      <td>-0.050430</td>\n",
              "      <td>0.000000</td>\n",
              "    </tr>\n",
              "  </tbody>\n",
              "</table>\n",
              "</div>"
            ],
            "text/plain": [
              "                      COV2-2050_400_escape  ...  COV2-2832_400_escape\n",
              "COV2-2050_400_escape              0.000000  ...             -0.032216\n",
              "COV2-2082_400_escape             -0.033898  ...             -0.036212\n",
              "COV2-2094_400_escape             -0.036442  ...             -0.038348\n",
              "COV2-2096_400_escape             -0.043535  ...             -0.058831\n",
              "COV2-2165_400_escape             -0.027328  ...             -0.024250\n",
              "COV2-2479_400_escape             -0.005748  ...             -0.023314\n",
              "COV2-2499_400_escape             -0.065981  ...             -0.069038\n",
              "COV2-2677_400_escape             -0.047881  ...             -0.050430\n",
              "COV2-2832_400_escape             -0.032216  ...              0.000000\n",
              "\n",
              "[9 rows x 9 columns]"
            ]
          },
          "metadata": {
            "tags": []
          },
          "execution_count": 25
        }
      ]
    },
    {
      "cell_type": "code",
      "metadata": {
        "colab": {
          "base_uri": "https://localhost:8080/"
        },
        "id": "a1s1M4yhW8Fq",
        "outputId": "cb7bce1d-5363-4fcf-b544-9277cd65b9e1"
      },
      "source": [
        "only_antibodies.quantile([0.5, 0.75, 0.9, 0.95, 0.99])"
      ],
      "execution_count": null,
      "outputs": [
        {
          "output_type": "execute_result",
          "data": {
            "text/html": [
              "<div>\n",
              "<style scoped>\n",
              "    .dataframe tbody tr th:only-of-type {\n",
              "        vertical-align: middle;\n",
              "    }\n",
              "\n",
              "    .dataframe tbody tr th {\n",
              "        vertical-align: top;\n",
              "    }\n",
              "\n",
              "    .dataframe thead th {\n",
              "        text-align: right;\n",
              "    }\n",
              "</style>\n",
              "<table border=\"1\" class=\"dataframe\">\n",
              "  <thead>\n",
              "    <tr style=\"text-align: right;\">\n",
              "      <th></th>\n",
              "      <th>COV2-2050_400_escape</th>\n",
              "      <th>COV2-2082_400_escape</th>\n",
              "      <th>COV2-2094_400_escape</th>\n",
              "      <th>COV2-2096_400_escape</th>\n",
              "      <th>COV2-2165_400_escape</th>\n",
              "      <th>COV2-2479_400_escape</th>\n",
              "      <th>COV2-2499_400_escape</th>\n",
              "      <th>COV2-2677_400_escape</th>\n",
              "      <th>COV2-2832_400_escape</th>\n",
              "    </tr>\n",
              "  </thead>\n",
              "  <tbody>\n",
              "    <tr>\n",
              "      <th>0.50</th>\n",
              "      <td>0.001404</td>\n",
              "      <td>0.003682</td>\n",
              "      <td>0.001921</td>\n",
              "      <td>0.000806</td>\n",
              "      <td>0.001955</td>\n",
              "      <td>0.000725</td>\n",
              "      <td>0.002216</td>\n",
              "      <td>0.001767</td>\n",
              "      <td>0.002148</td>\n",
              "    </tr>\n",
              "    <tr>\n",
              "      <th>0.75</th>\n",
              "      <td>0.001904</td>\n",
              "      <td>0.004903</td>\n",
              "      <td>0.002620</td>\n",
              "      <td>0.001286</td>\n",
              "      <td>0.002521</td>\n",
              "      <td>0.000927</td>\n",
              "      <td>0.003317</td>\n",
              "      <td>0.002407</td>\n",
              "      <td>0.002776</td>\n",
              "    </tr>\n",
              "    <tr>\n",
              "      <th>0.90</th>\n",
              "      <td>0.002726</td>\n",
              "      <td>0.006271</td>\n",
              "      <td>0.004007</td>\n",
              "      <td>0.004346</td>\n",
              "      <td>0.003119</td>\n",
              "      <td>0.001165</td>\n",
              "      <td>0.008383</td>\n",
              "      <td>0.003650</td>\n",
              "      <td>0.003640</td>\n",
              "    </tr>\n",
              "    <tr>\n",
              "      <th>0.95</th>\n",
              "      <td>0.003998</td>\n",
              "      <td>0.008258</td>\n",
              "      <td>0.006017</td>\n",
              "      <td>0.015166</td>\n",
              "      <td>0.003645</td>\n",
              "      <td>0.001417</td>\n",
              "      <td>0.083781</td>\n",
              "      <td>0.006798</td>\n",
              "      <td>0.004797</td>\n",
              "    </tr>\n",
              "    <tr>\n",
              "      <th>0.99</th>\n",
              "      <td>0.099302</td>\n",
              "      <td>0.096369</td>\n",
              "      <td>0.069407</td>\n",
              "      <td>0.251336</td>\n",
              "      <td>0.011672</td>\n",
              "      <td>0.007931</td>\n",
              "      <td>0.463715</td>\n",
              "      <td>0.236189</td>\n",
              "      <td>0.115338</td>\n",
              "    </tr>\n",
              "  </tbody>\n",
              "</table>\n",
              "</div>"
            ],
            "text/plain": [
              "      COV2-2050_400_escape  ...  COV2-2832_400_escape\n",
              "0.50              0.001404  ...              0.002148\n",
              "0.75              0.001904  ...              0.002776\n",
              "0.90              0.002726  ...              0.003640\n",
              "0.95              0.003998  ...              0.004797\n",
              "0.99              0.099302  ...              0.115338\n",
              "\n",
              "[5 rows x 9 columns]"
            ]
          },
          "metadata": {
            "tags": []
          },
          "execution_count": 18
        }
      ]
    },
    {
      "cell_type": "code",
      "metadata": {
        "colab": {
          "base_uri": "https://localhost:8080/"
        },
        "id": "wT8Ia5BVo_nm",
        "outputId": "6057e6b0-7b13-4f80-a6e3-bd593ef1bb58"
      },
      "source": [
        "f = only_antibodies.hist(figsize=(10,10), \n",
        "                         bins=100, \n",
        "                         log=True,\n",
        "                         )\n",
        "[_.tick_params(labelsize=12) for _ in f.ravel()]\n",
        "plt.suptitle(\"Histogram of Different Antibodies\", fontsize=20)\n",
        "plt.show\n",
        "pass"
      ],
      "execution_count": null,
      "outputs": [
        {
          "output_type": "display_data",
          "data": {
            "image/png": "[encoded data removed]",
            "text/plain": [
              "<Figure size 720x720 with 9 Axes>"
            ]
          },
          "metadata": {
            "tags": [],
            "needs_background": "light"
          }
        }
      ]
    },
    {
      "cell_type": "markdown",
      "metadata": {
        "id": "h1sRsBGNXh5u"
      },
      "source": [
        "As you can see, all the antibodies have major jump in value from the top 5% to the top 1%.\n",
        "Lets look at all rows that at least once column is in the top 1%:"
      ]
    },
    {
      "cell_type": "code",
      "metadata": {
        "colab": {
          "base_uri": "https://localhost:8080/"
        },
        "id": "CgPhtxouYJ4x",
        "outputId": "50f28b1d-37cb-40aa-aa5d-cd2374213289"
      },
      "source": [
        "qunatiles_of_interest = bind_and_antibody_df[[\n",
        "                                              \"COV2-2050_400_escape\",\n",
        "                                              \"COV2-2082_400_escape\",      \n",
        "                                              \"COV2-2094_400_escape\",      \n",
        "                                              \"COV2-2096_400_escape\",      \n",
        "                                              \"COV2-2165_400_escape\",      \n",
        "                                              \"COV2-2479_400_escape\",      \n",
        "                                              \"COV2-2499_400_escape\",      \n",
        "                                              \"COV2-2677_400_escape\",      \n",
        "                                              \"COV2-2832_400_escape\",\n",
        "                                              ]\n",
        "                                              ].quantile(0.99)\n",
        "rows = set()\n",
        "for col in qunatiles_of_interest.index:\n",
        "  ind_to_add = bind_and_antibody_df[bind_and_antibody_df[col] >= qunatiles_of_interest.loc[col]].index\n",
        "  rows.update(ind_to_add)\n",
        "  print(f\"New {len(rows)} rows in top qunatiles\")\n",
        "rows = sorted(rows)"
      ],
      "execution_count": null,
      "outputs": [
        {
          "output_type": "stream",
          "text": [
            "New 24 rows in top qunatiles\n",
            "New 48 rows in top qunatiles\n",
            "New 52 rows in top qunatiles\n",
            "New 74 rows in top qunatiles\n",
            "New 98 rows in top qunatiles\n",
            "New 107 rows in top qunatiles\n",
            "New 130 rows in top qunatiles\n",
            "New 146 rows in top qunatiles\n",
            "New 163 rows in top qunatiles\n"
          ],
          "name": "stdout"
        }
      ]
    },
    {
      "cell_type": "markdown",
      "metadata": {
        "id": "eTYNd0pKahcP"
      },
      "source": [
        "From above we can clearly see that some new rows are added. \n",
        "From this alone one can easily assume that being in the top 1% percentile of one antibody escape doesnt mean you will be in others.\n",
        "This insight is interesting because it mean that learning effect of mutations on one antibody is not enough in order to rank mutations. Furthermore it means that in order to learn all of them we may gain bio-mechanical knowledge about the process in which COVID-19 interacts with the immune system.\n",
        "Now lets take some statistics on how this rows look."
      ]
    },
    {
      "cell_type": "code",
      "metadata": {
        "colab": {
          "base_uri": "https://localhost:8080/"
        },
        "id": "u-cqDBDJbYTQ",
        "outputId": "0bcfd1d5-1f48-425e-aa41-253f3da2f358"
      },
      "source": [
        "bind_and_antibody_df.iloc[rows].sample(10)"
      ],
      "execution_count": null,
      "outputs": [
        {
          "output_type": "execute_result",
          "data": {
            "text/html": [
              "<div>\n",
              "<style scoped>\n",
              "    .dataframe tbody tr th:only-of-type {\n",
              "        vertical-align: middle;\n",
              "    }\n",
              "\n",
              "    .dataframe tbody tr th {\n",
              "        vertical-align: top;\n",
              "    }\n",
              "\n",
              "    .dataframe thead th {\n",
              "        text-align: right;\n",
              "    }\n",
              "</style>\n",
              "<table border=\"1\" class=\"dataframe\">\n",
              "  <thead>\n",
              "    <tr style=\"text-align: right;\">\n",
              "      <th></th>\n",
              "      <th>site</th>\n",
              "      <th>mutation</th>\n",
              "      <th>bind_avg</th>\n",
              "      <th>expr_avg</th>\n",
              "      <th>COV2-2050_400_escape</th>\n",
              "      <th>COV2-2082_400_escape</th>\n",
              "      <th>COV2-2094_400_escape</th>\n",
              "      <th>COV2-2096_400_escape</th>\n",
              "      <th>COV2-2165_400_escape</th>\n",
              "      <th>COV2-2479_400_escape</th>\n",
              "      <th>COV2-2499_400_escape</th>\n",
              "      <th>COV2-2677_400_escape</th>\n",
              "      <th>COV2-2832_400_escape</th>\n",
              "      <th>CR3022_400_escape</th>\n",
              "    </tr>\n",
              "  </thead>\n",
              "  <tbody>\n",
              "    <tr>\n",
              "      <th>1863</th>\n",
              "      <td>157</td>\n",
              "      <td>R</td>\n",
              "      <td>-2.30</td>\n",
              "      <td>-0.25</td>\n",
              "      <td>0.000290</td>\n",
              "      <td>0.000461</td>\n",
              "      <td>0.000444</td>\n",
              "      <td>0.000956</td>\n",
              "      <td>0.231500</td>\n",
              "      <td>0.000178</td>\n",
              "      <td>0.000492</td>\n",
              "      <td>0.000361</td>\n",
              "      <td>0.194600</td>\n",
              "      <td>0.000420</td>\n",
              "    </tr>\n",
              "    <tr>\n",
              "      <th>1838</th>\n",
              "      <td>156</td>\n",
              "      <td>G</td>\n",
              "      <td>-0.77</td>\n",
              "      <td>-0.08</td>\n",
              "      <td>0.000654</td>\n",
              "      <td>0.002341</td>\n",
              "      <td>0.000812</td>\n",
              "      <td>0.000529</td>\n",
              "      <td>0.002068</td>\n",
              "      <td>0.000528</td>\n",
              "      <td>0.001051</td>\n",
              "      <td>0.000853</td>\n",
              "      <td>0.289100</td>\n",
              "      <td>0.001618</td>\n",
              "    </tr>\n",
              "    <tr>\n",
              "      <th>1301</th>\n",
              "      <td>118</td>\n",
              "      <td>P</td>\n",
              "      <td>-1.65</td>\n",
              "      <td>-0.64</td>\n",
              "      <td>0.003109</td>\n",
              "      <td>0.005944</td>\n",
              "      <td>0.003965</td>\n",
              "      <td>0.265200</td>\n",
              "      <td>0.003322</td>\n",
              "      <td>0.000798</td>\n",
              "      <td>0.262300</td>\n",
              "      <td>0.003928</td>\n",
              "      <td>0.003516</td>\n",
              "      <td>0.003830</td>\n",
              "    </tr>\n",
              "    <tr>\n",
              "      <th>1946</th>\n",
              "      <td>166</td>\n",
              "      <td>L</td>\n",
              "      <td>-1.70</td>\n",
              "      <td>-0.17</td>\n",
              "      <td>0.004908</td>\n",
              "      <td>0.003267</td>\n",
              "      <td>0.001507</td>\n",
              "      <td>0.000801</td>\n",
              "      <td>0.001812</td>\n",
              "      <td>0.004837</td>\n",
              "      <td>0.499300</td>\n",
              "      <td>0.001479</td>\n",
              "      <td>0.005179</td>\n",
              "      <td>0.003471</td>\n",
              "    </tr>\n",
              "    <tr>\n",
              "      <th>1826</th>\n",
              "      <td>155</td>\n",
              "      <td>P</td>\n",
              "      <td>-1.53</td>\n",
              "      <td>-0.68</td>\n",
              "      <td>0.217400</td>\n",
              "      <td>0.005466</td>\n",
              "      <td>0.002629</td>\n",
              "      <td>0.000678</td>\n",
              "      <td>0.002582</td>\n",
              "      <td>0.127900</td>\n",
              "      <td>0.002091</td>\n",
              "      <td>0.001858</td>\n",
              "      <td>0.111800</td>\n",
              "      <td>0.005247</td>\n",
              "    </tr>\n",
              "    <tr>\n",
              "      <th>1042</th>\n",
              "      <td>87</td>\n",
              "      <td>Y</td>\n",
              "      <td>-0.08</td>\n",
              "      <td>0.07</td>\n",
              "      <td>0.001593</td>\n",
              "      <td>0.124000</td>\n",
              "      <td>0.045860</td>\n",
              "      <td>0.000609</td>\n",
              "      <td>0.001635</td>\n",
              "      <td>0.000830</td>\n",
              "      <td>0.002571</td>\n",
              "      <td>0.001562</td>\n",
              "      <td>0.001726</td>\n",
              "      <td>0.003532</td>\n",
              "    </tr>\n",
              "    <tr>\n",
              "      <th>1807</th>\n",
              "      <td>154</td>\n",
              "      <td>P</td>\n",
              "      <td>-0.28</td>\n",
              "      <td>-0.02</td>\n",
              "      <td>0.132100</td>\n",
              "      <td>0.000412</td>\n",
              "      <td>0.000403</td>\n",
              "      <td>0.018730</td>\n",
              "      <td>0.000791</td>\n",
              "      <td>0.000172</td>\n",
              "      <td>0.000325</td>\n",
              "      <td>0.000264</td>\n",
              "      <td>0.017750</td>\n",
              "      <td>0.000526</td>\n",
              "    </tr>\n",
              "    <tr>\n",
              "      <th>1800</th>\n",
              "      <td>154</td>\n",
              "      <td>G</td>\n",
              "      <td>-0.06</td>\n",
              "      <td>-0.42</td>\n",
              "      <td>0.122200</td>\n",
              "      <td>0.006220</td>\n",
              "      <td>0.001302</td>\n",
              "      <td>0.000497</td>\n",
              "      <td>0.002783</td>\n",
              "      <td>0.001353</td>\n",
              "      <td>0.002527</td>\n",
              "      <td>0.001214</td>\n",
              "      <td>0.002832</td>\n",
              "      <td>0.006325</td>\n",
              "    </tr>\n",
              "    <tr>\n",
              "      <th>1836</th>\n",
              "      <td>156</td>\n",
              "      <td>D</td>\n",
              "      <td>-1.69</td>\n",
              "      <td>0.11</td>\n",
              "      <td>0.003696</td>\n",
              "      <td>0.002567</td>\n",
              "      <td>0.001274</td>\n",
              "      <td>0.001723</td>\n",
              "      <td>0.001365</td>\n",
              "      <td>0.000694</td>\n",
              "      <td>0.002244</td>\n",
              "      <td>0.001249</td>\n",
              "      <td>0.329800</td>\n",
              "      <td>0.002508</td>\n",
              "    </tr>\n",
              "    <tr>\n",
              "      <th>1858</th>\n",
              "      <td>157</td>\n",
              "      <td>H</td>\n",
              "      <td>-1.87</td>\n",
              "      <td>-0.30</td>\n",
              "      <td>0.001834</td>\n",
              "      <td>0.005229</td>\n",
              "      <td>0.002711</td>\n",
              "      <td>0.000910</td>\n",
              "      <td>0.002914</td>\n",
              "      <td>0.000937</td>\n",
              "      <td>0.002903</td>\n",
              "      <td>0.002301</td>\n",
              "      <td>0.231200</td>\n",
              "      <td>0.003624</td>\n",
              "    </tr>\n",
              "  </tbody>\n",
              "</table>\n",
              "</div>"
            ],
            "text/plain": [
              "      site mutation  ...  COV2-2832_400_escape  CR3022_400_escape\n",
              "1863   157        R  ...              0.194600           0.000420\n",
              "1838   156        G  ...              0.289100           0.001618\n",
              "1301   118        P  ...              0.003516           0.003830\n",
              "1946   166        L  ...              0.005179           0.003471\n",
              "1826   155        P  ...              0.111800           0.005247\n",
              "1042    87        Y  ...              0.001726           0.003532\n",
              "1807   154        P  ...              0.017750           0.000526\n",
              "1800   154        G  ...              0.002832           0.006325\n",
              "1836   156        D  ...              0.329800           0.002508\n",
              "1858   157        H  ...              0.231200           0.003624\n",
              "\n",
              "[10 rows x 14 columns]"
            ]
          },
          "metadata": {
            "tags": []
          },
          "execution_count": 21
        }
      ]
    },
    {
      "cell_type": "code",
      "metadata": {
        "colab": {
          "base_uri": "https://localhost:8080/"
        },
        "id": "Q-FdCkz9bLq4",
        "outputId": "79c55282-d1e0-4249-f2ad-2f29c6509190"
      },
      "source": [
        "bind_and_antibody_df.iloc[rows].mutation.value_counts()"
      ],
      "execution_count": null,
      "outputs": [
        {
          "output_type": "execute_result",
          "data": {
            "text/plain": [
              "K    16\n",
              "R    14\n",
              "Y    14\n",
              "D    14\n",
              "E    12\n",
              "P    10\n",
              "N    10\n",
              "W     9\n",
              "T     8\n",
              "F     8\n",
              "L     7\n",
              "H     6\n",
              "G     6\n",
              "A     6\n",
              "Q     5\n",
              "V     5\n",
              "C     4\n",
              "I     4\n",
              "S     3\n",
              "M     2\n",
              "Name: mutation, dtype: int64"
            ]
          },
          "metadata": {
            "tags": []
          },
          "execution_count": 22
        }
      ]
    },
    {
      "cell_type": "code",
      "metadata": {
        "colab": {
          "base_uri": "https://localhost:8080/"
        },
        "id": "Zt6OkzYBaP62",
        "outputId": "02f44c94-3ddf-4eff-a3f7-cfba74f5be74"
      },
      "source": [
        "bind_and_antibody_df.iloc[rows].site.value_counts()"
      ],
      "execution_count": null,
      "outputs": [
        {
          "output_type": "execute_result",
          "data": {
            "text/plain": [
              "154    18\n",
              "156    12\n",
              "48     11\n",
              "160    10\n",
              "157    10\n",
              "54      8\n",
              "166     7\n",
              "122     6\n",
              "87      6\n",
              "90      6\n",
              "46      6\n",
              "145     5\n",
              "117     4\n",
              "116     4\n",
              "78      4\n",
              "168     4\n",
              "120     3\n",
              "118     3\n",
              "115     3\n",
              "159     3\n",
              "126     3\n",
              "39      2\n",
              "35      2\n",
              "44      2\n",
              "142     2\n",
              "164     2\n",
              "56      1\n",
              "41      1\n",
              "42      1\n",
              "34      1\n",
              "16      1\n",
              "199     1\n",
              "83      1\n",
              "91      1\n",
              "105     1\n",
              "113     1\n",
              "170     1\n",
              "119     1\n",
              "125     1\n",
              "130     1\n",
              "133     1\n",
              "155     1\n",
              "3       1\n",
              "Name: site, dtype: int64"
            ]
          },
          "metadata": {
            "tags": []
          },
          "execution_count": 23
        }
      ]
    },
    {
      "cell_type": "code",
      "metadata": {
        "colab": {
          "base_uri": "https://localhost:8080/"
        },
        "id": "8b-HlNKXbfeI",
        "outputId": "612d4cbe-da88-4aab-963f-31d582b4fac6"
      },
      "source": [
        "bind_and_antibody_df.hist(figsize=(10,10), log=True, bins=20)\n",
        "print()"
      ],
      "execution_count": null,
      "outputs": [
        {
          "output_type": "stream",
          "text": [
            "\n"
          ],
          "name": "stdout"
        },
        {
          "output_type": "display_data",
          "data": {
            "image/png": "[encoded data removed]",
            "text/plain": [
              "<Figure size 720x720 with 16 Axes>"
            ]
          },
          "metadata": {
            "tags": [],
            "needs_background": "light"
          }
        }
      ]
    },
    {
      "cell_type": "markdown",
      "metadata": {
        "id": "9bFB3WcMGM8O"
      },
      "source": [
        "Some of the data is NaN (antibodies that were not tested on some site)"
      ]
    },
    {
      "cell_type": "code",
      "metadata": {
        "colab": {
          "base_uri": "https://localhost:8080/"
        },
        "id": "zvG1tuAkGOdu",
        "outputId": "c195a870-6daf-4714-b2ae-e5ed5f87da5a"
      },
      "source": [
        "bind_and_antibody_df.notna().all()"
      ],
      "execution_count": null,
      "outputs": [
        {
          "output_type": "execute_result",
          "data": {
            "text/plain": [
              "site                     True\n",
              "mutation                 True\n",
              "bind_avg                 True\n",
              "expr_avg                 True\n",
              "COV2-2050_400_escape    False\n",
              "COV2-2082_400_escape    False\n",
              "COV2-2094_400_escape    False\n",
              "COV2-2096_400_escape    False\n",
              "COV2-2165_400_escape    False\n",
              "COV2-2479_400_escape    False\n",
              "COV2-2499_400_escape    False\n",
              "COV2-2677_400_escape    False\n",
              "COV2-2832_400_escape    False\n",
              "CR3022_400_escape       False\n",
              "dtype: bool"
            ]
          },
          "metadata": {
            "tags": []
          },
          "execution_count": 25
        }
      ]
    },
    {
      "cell_type": "markdown",
      "metadata": {
        "id": "2BfuEqTtGWeA"
      },
      "source": [
        "For the rest of this notebook we will just ignore those as they are small portion of the data (11 rows)."
      ]
    },
    {
      "cell_type": "code",
      "metadata": {
        "colab": {
          "base_uri": "https://localhost:8080/"
        },
        "id": "lIgUPBGTGVWf",
        "outputId": "b34be0c0-b70e-46e0-8ec4-22ed9e77586c"
      },
      "source": [
        "bind_and_antibody_df[~bind_and_antibody_df.notna().all(axis=1)]"
      ],
      "execution_count": null,
      "outputs": [
        {
          "output_type": "execute_result",
          "data": {
            "text/html": [
              "<div>\n",
              "<style scoped>\n",
              "    .dataframe tbody tr th:only-of-type {\n",
              "        vertical-align: middle;\n",
              "    }\n",
              "\n",
              "    .dataframe tbody tr th {\n",
              "        vertical-align: top;\n",
              "    }\n",
              "\n",
              "    .dataframe thead th {\n",
              "        text-align: right;\n",
              "    }\n",
              "</style>\n",
              "<table border=\"1\" class=\"dataframe\">\n",
              "  <thead>\n",
              "    <tr style=\"text-align: right;\">\n",
              "      <th></th>\n",
              "      <th>site</th>\n",
              "      <th>mutation</th>\n",
              "      <th>bind_avg</th>\n",
              "      <th>expr_avg</th>\n",
              "      <th>COV2-2050_400_escape</th>\n",
              "      <th>COV2-2082_400_escape</th>\n",
              "      <th>COV2-2094_400_escape</th>\n",
              "      <th>COV2-2096_400_escape</th>\n",
              "      <th>COV2-2165_400_escape</th>\n",
              "      <th>COV2-2479_400_escape</th>\n",
              "      <th>COV2-2499_400_escape</th>\n",
              "      <th>COV2-2677_400_escape</th>\n",
              "      <th>COV2-2832_400_escape</th>\n",
              "      <th>CR3022_400_escape</th>\n",
              "    </tr>\n",
              "  </thead>\n",
              "  <tbody>\n",
              "    <tr>\n",
              "      <th>218</th>\n",
              "      <td>17</td>\n",
              "      <td>N</td>\n",
              "      <td>-2.15</td>\n",
              "      <td>-0.60</td>\n",
              "      <td>NaN</td>\n",
              "      <td>NaN</td>\n",
              "      <td>NaN</td>\n",
              "      <td>0.246200</td>\n",
              "      <td>NaN</td>\n",
              "      <td>0.001260</td>\n",
              "      <td>NaN</td>\n",
              "      <td>NaN</td>\n",
              "      <td>NaN</td>\n",
              "      <td>0.003855</td>\n",
              "    </tr>\n",
              "    <tr>\n",
              "      <th>267</th>\n",
              "      <td>24</td>\n",
              "      <td>C</td>\n",
              "      <td>-0.29</td>\n",
              "      <td>-1.00</td>\n",
              "      <td>NaN</td>\n",
              "      <td>NaN</td>\n",
              "      <td>NaN</td>\n",
              "      <td>0.000871</td>\n",
              "      <td>NaN</td>\n",
              "      <td>NaN</td>\n",
              "      <td>NaN</td>\n",
              "      <td>NaN</td>\n",
              "      <td>NaN</td>\n",
              "      <td>NaN</td>\n",
              "    </tr>\n",
              "    <tr>\n",
              "      <th>275</th>\n",
              "      <td>24</td>\n",
              "      <td>M</td>\n",
              "      <td>-0.23</td>\n",
              "      <td>-0.91</td>\n",
              "      <td>NaN</td>\n",
              "      <td>NaN</td>\n",
              "      <td>NaN</td>\n",
              "      <td>0.001722</td>\n",
              "      <td>NaN</td>\n",
              "      <td>0.001791</td>\n",
              "      <td>NaN</td>\n",
              "      <td>NaN</td>\n",
              "      <td>NaN</td>\n",
              "      <td>0.008597</td>\n",
              "    </tr>\n",
              "    <tr>\n",
              "      <th>286</th>\n",
              "      <td>26</td>\n",
              "      <td>F</td>\n",
              "      <td>-0.15</td>\n",
              "      <td>-1.31</td>\n",
              "      <td>0.000000</td>\n",
              "      <td>NaN</td>\n",
              "      <td>0.000000</td>\n",
              "      <td>0.000000</td>\n",
              "      <td>NaN</td>\n",
              "      <td>NaN</td>\n",
              "      <td>0.000000</td>\n",
              "      <td>0.000000</td>\n",
              "      <td>NaN</td>\n",
              "      <td>NaN</td>\n",
              "    </tr>\n",
              "    <tr>\n",
              "      <th>355</th>\n",
              "      <td>30</td>\n",
              "      <td>P</td>\n",
              "      <td>-0.04</td>\n",
              "      <td>-1.33</td>\n",
              "      <td>0.000000</td>\n",
              "      <td>0.000000</td>\n",
              "      <td>0.000000</td>\n",
              "      <td>0.000000</td>\n",
              "      <td>0.000000</td>\n",
              "      <td>NaN</td>\n",
              "      <td>0.000000</td>\n",
              "      <td>0.000000</td>\n",
              "      <td>0.000000</td>\n",
              "      <td>NaN</td>\n",
              "    </tr>\n",
              "    <tr>\n",
              "      <th>363</th>\n",
              "      <td>31</td>\n",
              "      <td>D</td>\n",
              "      <td>-0.86</td>\n",
              "      <td>-0.65</td>\n",
              "      <td>NaN</td>\n",
              "      <td>0.000000</td>\n",
              "      <td>NaN</td>\n",
              "      <td>0.000000</td>\n",
              "      <td>0.000000</td>\n",
              "      <td>NaN</td>\n",
              "      <td>NaN</td>\n",
              "      <td>NaN</td>\n",
              "      <td>0.000000</td>\n",
              "      <td>NaN</td>\n",
              "    </tr>\n",
              "    <tr>\n",
              "      <th>928</th>\n",
              "      <td>75</td>\n",
              "      <td>M</td>\n",
              "      <td>-0.08</td>\n",
              "      <td>-1.01</td>\n",
              "      <td>NaN</td>\n",
              "      <td>NaN</td>\n",
              "      <td>NaN</td>\n",
              "      <td>0.000000</td>\n",
              "      <td>NaN</td>\n",
              "      <td>NaN</td>\n",
              "      <td>NaN</td>\n",
              "      <td>NaN</td>\n",
              "      <td>NaN</td>\n",
              "      <td>NaN</td>\n",
              "    </tr>\n",
              "    <tr>\n",
              "      <th>1206</th>\n",
              "      <td>113</td>\n",
              "      <td>D</td>\n",
              "      <td>-2.06</td>\n",
              "      <td>-1.26</td>\n",
              "      <td>NaN</td>\n",
              "      <td>0.004683</td>\n",
              "      <td>NaN</td>\n",
              "      <td>0.050500</td>\n",
              "      <td>0.004136</td>\n",
              "      <td>NaN</td>\n",
              "      <td>NaN</td>\n",
              "      <td>NaN</td>\n",
              "      <td>0.004626</td>\n",
              "      <td>NaN</td>\n",
              "    </tr>\n",
              "    <tr>\n",
              "      <th>1667</th>\n",
              "      <td>145</td>\n",
              "      <td>W</td>\n",
              "      <td>-2.26</td>\n",
              "      <td>-1.09</td>\n",
              "      <td>0.003642</td>\n",
              "      <td>0.005256</td>\n",
              "      <td>0.004518</td>\n",
              "      <td>0.002355</td>\n",
              "      <td>0.023210</td>\n",
              "      <td>NaN</td>\n",
              "      <td>0.005852</td>\n",
              "      <td>0.004746</td>\n",
              "      <td>0.005192</td>\n",
              "      <td>NaN</td>\n",
              "    </tr>\n",
              "    <tr>\n",
              "      <th>1757</th>\n",
              "      <td>151</td>\n",
              "      <td>W</td>\n",
              "      <td>-0.09</td>\n",
              "      <td>-1.05</td>\n",
              "      <td>0.000000</td>\n",
              "      <td>NaN</td>\n",
              "      <td>0.000000</td>\n",
              "      <td>0.000000</td>\n",
              "      <td>NaN</td>\n",
              "      <td>NaN</td>\n",
              "      <td>0.000000</td>\n",
              "      <td>0.000000</td>\n",
              "      <td>NaN</td>\n",
              "      <td>NaN</td>\n",
              "    </tr>\n",
              "    <tr>\n",
              "      <th>2262</th>\n",
              "      <td>196</td>\n",
              "      <td>M</td>\n",
              "      <td>0.02</td>\n",
              "      <td>-0.34</td>\n",
              "      <td>0.003397</td>\n",
              "      <td>NaN</td>\n",
              "      <td>0.004214</td>\n",
              "      <td>NaN</td>\n",
              "      <td>NaN</td>\n",
              "      <td>NaN</td>\n",
              "      <td>0.005459</td>\n",
              "      <td>0.004427</td>\n",
              "      <td>NaN</td>\n",
              "      <td>NaN</td>\n",
              "    </tr>\n",
              "  </tbody>\n",
              "</table>\n",
              "</div>"
            ],
            "text/plain": [
              "      site mutation  ...  COV2-2832_400_escape  CR3022_400_escape\n",
              "218     17        N  ...                   NaN           0.003855\n",
              "267     24        C  ...                   NaN                NaN\n",
              "275     24        M  ...                   NaN           0.008597\n",
              "286     26        F  ...                   NaN                NaN\n",
              "355     30        P  ...              0.000000                NaN\n",
              "363     31        D  ...              0.000000                NaN\n",
              "928     75        M  ...                   NaN                NaN\n",
              "1206   113        D  ...              0.004626                NaN\n",
              "1667   145        W  ...              0.005192                NaN\n",
              "1757   151        W  ...                   NaN                NaN\n",
              "2262   196        M  ...                   NaN                NaN\n",
              "\n",
              "[11 rows x 14 columns]"
            ]
          },
          "metadata": {
            "tags": []
          },
          "execution_count": 26
        }
      ]
    },
    {
      "cell_type": "code",
      "metadata": {
        "id": "OOXGPboSGpP7"
      },
      "source": [
        "bind_and_antibody_df = bind_and_antibody_df[bind_and_antibody_df.notna().all(axis=1)]"
      ],
      "execution_count": null,
      "outputs": []
    },
    {
      "cell_type": "markdown",
      "metadata": {
        "id": "dkI3itmPhVKV"
      },
      "source": [
        "Later on we are going to augument our data by balncing between the top 5% and bottom 95%. Lets examine are both of them look. We will focus on \"COV2-2050\" as an example. Notice that the top 95% looks similiar to a gaussian (except the big column in the zero area)."
      ]
    },
    {
      "cell_type": "code",
      "metadata": {
        "id": "R3NcA2_rhUjt"
      },
      "source": [
        "data_of_interest = bind_and_antibody_df['COV2-2050_400_escape']\n",
        "top_5_quantile = data_of_interest.quantile(q=0.95)"
      ],
      "execution_count": null,
      "outputs": []
    },
    {
      "cell_type": "code",
      "metadata": {
        "colab": {
          "base_uri": "https://localhost:8080/"
        },
        "id": "CH-77SwTh2pI",
        "outputId": "70d74403-de5b-42ef-8b7d-5dc33b050957"
      },
      "source": [
        "plt.figure()\n",
        "plt.title(\"Top 5% - COV2-2050_400\")\n",
        "plt.hist(data_of_interest[data_of_interest >=top_5_quantile], bins=50)\n",
        "plt.figure()\n",
        "plt.title(\"Bottom 95% - COV2-2050_400\")\n",
        "plt.hist(data_of_interest[data_of_interest < top_5_quantile], bins=50)\n",
        "pass"
      ],
      "execution_count": null,
      "outputs": [
        {
          "output_type": "display_data",
          "data": {
            "image/png": "[encoded data removed]",
            "text/plain": [
              "<Figure size 432x288 with 1 Axes>"
            ]
          },
          "metadata": {
            "tags": [],
            "needs_background": "light"
          }
        },
        {
          "output_type": "display_data",
          "data": {
            "image/png": "[encoded data removed]",
            "text/plain": [
              "<Figure size 432x288 with 1 Axes>"
            ]
          },
          "metadata": {
            "tags": [],
            "needs_background": "light"
          }
        }
      ]
    },
    {
      "cell_type": "code",
      "metadata": {
        "id": "KUiyNh7PNgLB"
      },
      "source": [
        "other_antibody_df_file = f\"{csvs_folder}/starr_cocktails.csv\"\n",
        "other_antibody_df = pd.read_csv(other_antibody_df_file)"
      ],
      "execution_count": null,
      "outputs": []
    },
    {
      "cell_type": "code",
      "metadata": {
        "colab": {
          "base_uri": "https://localhost:8080/"
        },
        "id": "CO8mRFQsN1-j",
        "outputId": "cbd990eb-866b-47dc-89f5-c3d039ec3341"
      },
      "source": [
        "cocktail_and_antibodies = [\n",
        "                           'LY-CoV016',\n",
        "                           'REGN10933 + REGN10987', \n",
        "                           'REGN10933', \n",
        "                           'REGN10987',\n",
        "                           ]\n",
        "other_antibody_df[cocktail_and_antibodies].hist(figsize=(10, 10), bins=25)\n",
        "pass"
      ],
      "execution_count": null,
      "outputs": [
        {
          "output_type": "display_data",
          "data": {
            "image/png": "[encoded data removed]",
            "text/plain": [
              "<Figure size 720x720 with 4 Axes>"
            ]
          },
          "metadata": {
            "tags": [],
            "needs_background": "light"
          }
        }
      ]
    },
    {
      "cell_type": "code",
      "metadata": {
        "colab": {
          "base_uri": "https://localhost:8080/"
        },
        "id": "Gv7kQTeAORuu",
        "outputId": "91cd8062-380d-473f-8cc2-47423d877247"
      },
      "source": [
        "other_antibody_df[cocktail_and_antibodies].describe(percentiles=[i/20 for i in range(0, 20)])"
      ],
      "execution_count": null,
      "outputs": [
        {
          "output_type": "execute_result",
          "data": {
            "text/html": [
              "<div>\n",
              "<style scoped>\n",
              "    .dataframe tbody tr th:only-of-type {\n",
              "        vertical-align: middle;\n",
              "    }\n",
              "\n",
              "    .dataframe tbody tr th {\n",
              "        vertical-align: top;\n",
              "    }\n",
              "\n",
              "    .dataframe thead th {\n",
              "        text-align: right;\n",
              "    }\n",
              "</style>\n",
              "<table border=\"1\" class=\"dataframe\">\n",
              "  <thead>\n",
              "    <tr style=\"text-align: right;\">\n",
              "      <th></th>\n",
              "      <th>LY-CoV016</th>\n",
              "      <th>REGN10933 + REGN10987</th>\n",
              "      <th>REGN10933</th>\n",
              "      <th>REGN10987</th>\n",
              "    </tr>\n",
              "  </thead>\n",
              "  <tbody>\n",
              "    <tr>\n",
              "      <th>count</th>\n",
              "      <td>1948.000000</td>\n",
              "      <td>1948.000000</td>\n",
              "      <td>1948.000000</td>\n",
              "      <td>1948.000000</td>\n",
              "    </tr>\n",
              "    <tr>\n",
              "      <th>mean</th>\n",
              "      <td>0.066986</td>\n",
              "      <td>0.002573</td>\n",
              "      <td>0.033845</td>\n",
              "      <td>0.050600</td>\n",
              "    </tr>\n",
              "    <tr>\n",
              "      <th>std</th>\n",
              "      <td>0.225167</td>\n",
              "      <td>0.023281</td>\n",
              "      <td>0.143713</td>\n",
              "      <td>0.193547</td>\n",
              "    </tr>\n",
              "    <tr>\n",
              "      <th>min</th>\n",
              "      <td>0.000000</td>\n",
              "      <td>0.000528</td>\n",
              "      <td>0.000000</td>\n",
              "      <td>0.001560</td>\n",
              "    </tr>\n",
              "    <tr>\n",
              "      <th>0%</th>\n",
              "      <td>0.000000</td>\n",
              "      <td>0.000528</td>\n",
              "      <td>0.000000</td>\n",
              "      <td>0.001560</td>\n",
              "    </tr>\n",
              "    <tr>\n",
              "      <th>5%</th>\n",
              "      <td>0.001093</td>\n",
              "      <td>0.001299</td>\n",
              "      <td>0.001125</td>\n",
              "      <td>0.002071</td>\n",
              "    </tr>\n",
              "    <tr>\n",
              "      <th>10%</th>\n",
              "      <td>0.001093</td>\n",
              "      <td>0.001392</td>\n",
              "      <td>0.001125</td>\n",
              "      <td>0.002073</td>\n",
              "    </tr>\n",
              "    <tr>\n",
              "      <th>15%</th>\n",
              "      <td>0.001093</td>\n",
              "      <td>0.001431</td>\n",
              "      <td>0.001125</td>\n",
              "      <td>0.002074</td>\n",
              "    </tr>\n",
              "    <tr>\n",
              "      <th>20%</th>\n",
              "      <td>0.001093</td>\n",
              "      <td>0.001456</td>\n",
              "      <td>0.001125</td>\n",
              "      <td>0.002075</td>\n",
              "    </tr>\n",
              "    <tr>\n",
              "      <th>25%</th>\n",
              "      <td>0.001093</td>\n",
              "      <td>0.001473</td>\n",
              "      <td>0.001125</td>\n",
              "      <td>0.002075</td>\n",
              "    </tr>\n",
              "    <tr>\n",
              "      <th>30%</th>\n",
              "      <td>0.001093</td>\n",
              "      <td>0.001485</td>\n",
              "      <td>0.001125</td>\n",
              "      <td>0.002075</td>\n",
              "    </tr>\n",
              "    <tr>\n",
              "      <th>35%</th>\n",
              "      <td>0.001093</td>\n",
              "      <td>0.001497</td>\n",
              "      <td>0.001408</td>\n",
              "      <td>0.002075</td>\n",
              "    </tr>\n",
              "    <tr>\n",
              "      <th>40%</th>\n",
              "      <td>0.001093</td>\n",
              "      <td>0.001509</td>\n",
              "      <td>0.001695</td>\n",
              "      <td>0.002075</td>\n",
              "    </tr>\n",
              "    <tr>\n",
              "      <th>45%</th>\n",
              "      <td>0.001516</td>\n",
              "      <td>0.001518</td>\n",
              "      <td>0.001956</td>\n",
              "      <td>0.002076</td>\n",
              "    </tr>\n",
              "    <tr>\n",
              "      <th>50%</th>\n",
              "      <td>0.002020</td>\n",
              "      <td>0.001528</td>\n",
              "      <td>0.002249</td>\n",
              "      <td>0.002076</td>\n",
              "    </tr>\n",
              "    <tr>\n",
              "      <th>55%</th>\n",
              "      <td>0.002507</td>\n",
              "      <td>0.001538</td>\n",
              "      <td>0.002580</td>\n",
              "      <td>0.002076</td>\n",
              "    </tr>\n",
              "    <tr>\n",
              "      <th>60%</th>\n",
              "      <td>0.003100</td>\n",
              "      <td>0.001549</td>\n",
              "      <td>0.003013</td>\n",
              "      <td>0.002076</td>\n",
              "    </tr>\n",
              "    <tr>\n",
              "      <th>65%</th>\n",
              "      <td>0.003869</td>\n",
              "      <td>0.001564</td>\n",
              "      <td>0.003540</td>\n",
              "      <td>0.002077</td>\n",
              "    </tr>\n",
              "    <tr>\n",
              "      <th>70%</th>\n",
              "      <td>0.004854</td>\n",
              "      <td>0.001586</td>\n",
              "      <td>0.004154</td>\n",
              "      <td>0.002077</td>\n",
              "    </tr>\n",
              "    <tr>\n",
              "      <th>75%</th>\n",
              "      <td>0.006199</td>\n",
              "      <td>0.001615</td>\n",
              "      <td>0.005098</td>\n",
              "      <td>0.002078</td>\n",
              "    </tr>\n",
              "    <tr>\n",
              "      <th>80%</th>\n",
              "      <td>0.009018</td>\n",
              "      <td>0.001663</td>\n",
              "      <td>0.006498</td>\n",
              "      <td>0.002079</td>\n",
              "    </tr>\n",
              "    <tr>\n",
              "      <th>85%</th>\n",
              "      <td>0.014625</td>\n",
              "      <td>0.001779</td>\n",
              "      <td>0.008562</td>\n",
              "      <td>0.002081</td>\n",
              "    </tr>\n",
              "    <tr>\n",
              "      <th>90%</th>\n",
              "      <td>0.039525</td>\n",
              "      <td>0.001978</td>\n",
              "      <td>0.013169</td>\n",
              "      <td>0.002876</td>\n",
              "    </tr>\n",
              "    <tr>\n",
              "      <th>95%</th>\n",
              "      <td>0.835990</td>\n",
              "      <td>0.002468</td>\n",
              "      <td>0.072974</td>\n",
              "      <td>0.564125</td>\n",
              "    </tr>\n",
              "    <tr>\n",
              "      <th>max</th>\n",
              "      <td>0.997200</td>\n",
              "      <td>0.952400</td>\n",
              "      <td>0.990400</td>\n",
              "      <td>1.000000</td>\n",
              "    </tr>\n",
              "  </tbody>\n",
              "</table>\n",
              "</div>"
            ],
            "text/plain": [
              "         LY-CoV016  REGN10933 + REGN10987    REGN10933    REGN10987\n",
              "count  1948.000000            1948.000000  1948.000000  1948.000000\n",
              "mean      0.066986               0.002573     0.033845     0.050600\n",
              "std       0.225167               0.023281     0.143713     0.193547\n",
              "min       0.000000               0.000528     0.000000     0.001560\n",
              "0%        0.000000               0.000528     0.000000     0.001560\n",
              "5%        0.001093               0.001299     0.001125     0.002071\n",
              "10%       0.001093               0.001392     0.001125     0.002073\n",
              "15%       0.001093               0.001431     0.001125     0.002074\n",
              "20%       0.001093               0.001456     0.001125     0.002075\n",
              "25%       0.001093               0.001473     0.001125     0.002075\n",
              "30%       0.001093               0.001485     0.001125     0.002075\n",
              "35%       0.001093               0.001497     0.001408     0.002075\n",
              "40%       0.001093               0.001509     0.001695     0.002075\n",
              "45%       0.001516               0.001518     0.001956     0.002076\n",
              "50%       0.002020               0.001528     0.002249     0.002076\n",
              "55%       0.002507               0.001538     0.002580     0.002076\n",
              "60%       0.003100               0.001549     0.003013     0.002076\n",
              "65%       0.003869               0.001564     0.003540     0.002077\n",
              "70%       0.004854               0.001586     0.004154     0.002077\n",
              "75%       0.006199               0.001615     0.005098     0.002078\n",
              "80%       0.009018               0.001663     0.006498     0.002079\n",
              "85%       0.014625               0.001779     0.008562     0.002081\n",
              "90%       0.039525               0.001978     0.013169     0.002876\n",
              "95%       0.835990               0.002468     0.072974     0.564125\n",
              "max       0.997200               0.952400     0.990400     1.000000"
            ]
          },
          "metadata": {
            "tags": []
          },
          "execution_count": 32
        }
      ]
    },
    {
      "cell_type": "markdown",
      "metadata": {
        "id": "us3A88-kP-t6"
      },
      "source": [
        "One reason we wont try to learn the cocktail is because it has very small output, you can see below that if we want to find out which amino-acid might be problem, we cant, because there are only two amino acid subtitution that have escape probability >=0.1 and only 12 (which is approximately 0.5%) with probability of >=0.02. Similiar argument can be said for several antibodies from our initial data set."
      ]
    },
    {
      "cell_type": "code",
      "metadata": {
        "colab": {
          "base_uri": "https://localhost:8080/"
        },
        "id": "Jr22IlzAO06t",
        "outputId": "6f112ba0-3648-4f69-bae7-c553cd4099df"
      },
      "source": [
        "cocktail = other_antibody_df[\"REGN10933 + REGN10987\"]\n",
        "cocktail_top_1_percent = cocktail.quantile(0.99)\n",
        "cocktail.quantile([0.9+i/100 for i in range(0,10)]+[0.995])"
      ],
      "execution_count": null,
      "outputs": [
        {
          "output_type": "execute_result",
          "data": {
            "text/plain": [
              "0.900    0.001978\n",
              "0.910    0.002034\n",
              "0.920    0.002125\n",
              "0.930    0.002194\n",
              "0.940    0.002312\n",
              "0.950    0.002468\n",
              "0.960    0.002697\n",
              "0.970    0.002918\n",
              "0.980    0.003487\n",
              "0.990    0.009981\n",
              "0.995    0.025633\n",
              "Name: REGN10933 + REGN10987, dtype: float64"
            ]
          },
          "metadata": {
            "tags": []
          },
          "execution_count": 33
        }
      ]
    },
    {
      "cell_type": "code",
      "metadata": {
        "colab": {
          "base_uri": "https://localhost:8080/"
        },
        "id": "-t2wmMwNPjEm",
        "outputId": "f0cf3d2e-7b34-4060-b918-acad6d54a299"
      },
      "source": [
        "cocktail[cocktail <= cocktail_top_1_percent].hist(bins=100)\n",
        "pass"
      ],
      "execution_count": null,
      "outputs": [
        {
          "output_type": "display_data",
          "data": {
            "image/png": "[encoded data removed]",
            "text/plain": [
              "<Figure size 432x288 with 1 Axes>"
            ]
          },
          "metadata": {
            "tags": [],
            "needs_background": "light"
          }
        }
      ]
    },
    {
      "cell_type": "code",
      "metadata": {
        "colab": {
          "base_uri": "https://localhost:8080/"
        },
        "id": "CRr_RdmzPozp",
        "outputId": "4ff17ce6-8035-403c-a09a-6ce6fc08c891"
      },
      "source": [
        "cocktail[cocktail > cocktail_top_1_percent].hist(bins=100)\n",
        "pass"
      ],
      "execution_count": null,
      "outputs": [
        {
          "output_type": "display_data",
          "data": {
            "image/png": "[encoded data removed]",
            "text/plain": [
              "<Figure size 432x288 with 1 Axes>"
            ]
          },
          "metadata": {
            "tags": [],
            "needs_background": "light"
          }
        }
      ]
    },
    {
      "cell_type": "code",
      "metadata": {
        "colab": {
          "base_uri": "https://localhost:8080/"
        },
        "id": "dyegubfBP3Rq",
        "outputId": "7897950c-9a5e-482b-8cca-44358bc1711e"
      },
      "source": [
        "cocktail[cocktail > cocktail_top_1_percent].sort_values()"
      ],
      "execution_count": null,
      "outputs": [
        {
          "output_type": "execute_result",
          "data": {
            "text/plain": [
              "990     0.01023\n",
              "1335    0.01122\n",
              "1463    0.01135\n",
              "949     0.01427\n",
              "993     0.01519\n",
              "1109    0.01728\n",
              "997     0.01739\n",
              "1502    0.01897\n",
              "1493    0.02433\n",
              "1344    0.02532\n",
              "982     0.02650\n",
              "983     0.03099\n",
              "1516    0.03509\n",
              "1097    0.04266\n",
              "1112    0.04306\n",
              "899     0.05335\n",
              "946     0.06092\n",
              "1106    0.09853\n",
              "1554    0.36010\n",
              "738     0.95240\n",
              "Name: REGN10933 + REGN10987, dtype: float64"
            ]
          },
          "metadata": {
            "tags": []
          },
          "execution_count": 36
        }
      ]
    },
    {
      "cell_type": "markdown",
      "metadata": {
        "id": "ni9Ts6XIGlHm"
      },
      "source": [
        "#Results Analysis\n",
        "## Single Task VS Multi Task\n"
      ]
    },
    {
      "cell_type": "markdown",
      "metadata": {
        "id": "pGNCLreFGpGF"
      },
      "source": [
        "We have for each antibody a prediction of our 64 layered neural networks for each train-test split including the ground truth.\n",
        "\n",
        "The following plot shows for each antibody a boxplot of the pearson correlation between the ground truth and the neural networks predictions.\n",
        "Moreover we show the results for both a single-task (trainig only on a single antibody data) with the multi-task (which trains on all antibodies in parallel) side-by-side.\n",
        "\n",
        "\n",
        "**To run your own version, update the folder where the pkl:**  pkl_folder_temp "
      ]
    },
    {
      "cell_type": "markdown",
      "source": [
        "### Classification"
      ],
      "metadata": {
        "id": "sMWcIlKr4rbG"
      }
    },
    {
      "cell_type": "code",
      "source": [
        "def auc_for_res(z):\n",
        "  return [metrics.roc_auc_score(z[1][:,i,0],\n",
        "                                z[2][i]) for i in range(len(z[2]))]\n",
        "\n",
        "pkl_folder_temp = [\n",
        "                   '/content/gdrive/MyDrive/COVID19-MSC/new_code_data/temp14' #Put your folder\n",
        "]             \n",
        "\n",
        "antibodies = [\n",
        "              \"COV2-2050\",\n",
        "              \"COV2-2832\",\n",
        "              \"COV2-2165\",\n",
        "              \"COV2-2479\",\n",
        "              \"COV2-2096\",\n",
        "              \"COV2-2499\",\n",
        "              \"COV2-2082\",\n",
        "              \"COV2-2677\",\n",
        "              \"COV2-2094\",\n",
        "              ]\n",
        "              "
      ],
      "metadata": {
        "id": "iYerE9jP4G0d"
      },
      "execution_count": null,
      "outputs": []
    },
    {
      "cell_type": "code",
      "source": [
        "\n",
        "antibodies_file_format = [\n",
        "                          \"no_strat_{}_bin.pkl\", # Format for single task file\n",
        "                          ]\n",
        "print(list(enumerate(antibodies_file_format)))\n",
        "label = {\n",
        "    antibodies_file_format[0]: \"Single-Task\",\n",
        "         }\n",
        "\n",
        "antibodies_res = dict()\n",
        "\n",
        "d_df_temp = pd.DataFrame(columns=[\"Antibody\", \"AUC\", \"Source\"])\n",
        "for file_format in label.keys():\n",
        "  antibodies_no_aug_val_res = dict()\n",
        "  for anti in antibodies:\n",
        "    try:\n",
        "      antibodies_no_aug_val_res[anti] = unpickle(f\"{pkl_folder_temp[0]}/{file_format.format(anti)}\")\n",
        "      if 'val_data' in antibodies_no_aug_val_res[anti]:\n",
        "        antibodies_no_aug_val_res[anti] = antibodies_no_aug_val_res[anti]['val_data']\n",
        "      else:\n",
        "        z = list(antibodies_no_aug_val_res[anti].values())[0]\n",
        "        z = z['test_data']\n",
        "        antibodies_no_aug_val_res[anti] = z\n",
        "    except:\n",
        "      print(f\"cant find {pkl_folder_temp[0]}/{file_format.format(anti)}\")\n",
        "  antibodies_no_aug_res_corr = dict()\n",
        "  for k in antibodies_no_aug_val_res.keys():\n",
        "    auc_vals = list()\n",
        "    auc_train = list()\n",
        "    for t in antibodies_no_aug_val_res[k]:\n",
        "      y_t_val, y_p_val = np.squeeze( t[1]), np.squeeze(t[2])\n",
        "      auc_vals.append(metrics.roc_auc_score(y_t_val, y_p_val))\n",
        "      \n",
        "    antibodies_no_aug_res_corr[k] = np.array(auc_vals)\n",
        "\n",
        "  for i in range(9):\n",
        "    if antibodies[i] not in antibodies_no_aug_res_corr:\n",
        "      print(f\"cant {antibodies[i]}\")\n",
        "      continue\n",
        "    d_df_temp = d_df_temp.append(\n",
        "        pd.DataFrame([[_,\n",
        "                      label[file_format] ,\n",
        "                      antibodies[i]\n",
        "                      ] for _ in   antibodies_no_aug_res_corr[antibodies[i]]],\n",
        "                    columns=['AUC', 'Source', 'Antibody']))\n",
        "  \n",
        "multitask_files = [\n",
        "                   \"/content/gdrive/MyDrive/COVID19-MSC/new_code_data/temp14/multi_bin_40_dist.pkl\" ,  \n",
        "\n",
        "                 ]\n",
        "\n",
        "for _ in enumerate(multitask_files):\n",
        "  print(_)\n",
        "\n",
        "file_to_label = {\n",
        "    old_code_files[1]: \"Multi Task \",\n",
        "}\n",
        "\n",
        "single_results = {\n",
        "    k: unpickle(k)['val_data'] for k in file_to_label.keys()\n",
        "}\n",
        "\n",
        "single_auc = {\n",
        "     k: np.array(list(map(lambda _ : auc_for_res(_),\n",
        "                          v[:5])))[:,:9] for k,v in single_results.items()              \n",
        "}\n",
        "\n",
        "for k in file_to_label.keys():\n",
        "  auc = single_auc[k]\n",
        "  cls = [file_to_label[k]] * len(auc)\n",
        "  for i in range(auc.shape[-1]):\n",
        "    curr_df = pd.DataFrame.from_dict({\n",
        "        'Antibody': [antibodies[i], ] * len(cls),\n",
        "        'AUC': auc[:, i],\n",
        "        'Source': cls,\n",
        "     })\n",
        "    d_df_temp = d_df_temp.append(curr_df)\n",
        "covid19_selections_columns = list(range(len(set(d_df_temp.Antibody))))\n",
        "plt.figure(figsize=(20, 10))\n",
        "plt.title(\"Antibody Escape Classification\", fontsize=30)\n",
        "[plt.axvline(x, color = 'm', linestyle='--') for x in [i+0.5 for i, _ in enumerate(covid19_selections_columns[:-1])]]\n",
        "f = sns.boxplot(x='Antibody',\n",
        "                y='AUC',\n",
        "                hue='Source',\n",
        "                data=d_df_temp)\n",
        "plt.draw()\n",
        "f.set_xticklabels(f.get_xticklabels(), fontsize=18)\n",
        "f.set_yticklabels(f.get_yticklabels(), fontsize=18)\n",
        "f.set_ylabel(\"AUC\", fontsize=24)\n",
        "f.set_xlabel(\"Antibody Name\", fontsize=24)\n",
        "f.legend(loc='upper right', fontsize='x-large', bbox_to_anchor=(1.22, 1))"
      ],
      "metadata": {
        "id": "5H9RrgZS1hlw"
      },
      "execution_count": null,
      "outputs": []
    },
    {
      "cell_type": "markdown",
      "source": [
        "### Regression"
      ],
      "metadata": {
        "id": "94rXKhE04uE-"
      }
    },
    {
      "cell_type": "code",
      "source": [
        "pkl_folder_temp = [\n",
        "                   '/content/gdrive/MyDrive/COVID19-MSC/new_code_data/temp5/single_continuous_01_no_aug.pkl',\n",
        "                   '/content/gdrive/MyDrive/COVID19-MSC/new_code_data/temp5/single_continuous_01_oversample.pkl',\n",
        "                   '/content/gdrive/MyDrive/COVID19-MSC/new_code_data/temp5/multi_cont_40_dist.pkl',\n",
        "                   ]\n",
        "file_to_label = {\n",
        "    pkl_folder_temp[0]: \"Single\",\n",
        "    pkl_folder_temp[1]: \"Multi\"\n",
        "}\n",
        "d = dict()\n",
        "\n",
        "for f in pkl_folder_temp :\n",
        "  print(f\"Start {f}\")\n",
        "  d[f] = np.array([numnum_cont__(z) for z in unpickle(f)])\n",
        "  print(\"_\"*20)\n",
        "\n",
        "d_df_temp = pd.DataFrame(columns=[\"antibody\", \"correlation\", \"Classifier\"])\n",
        "for f in pkl_folder_temp:\n",
        "  corr = d[f]\n",
        "  cls = [file_to_label[f]] * len(corr)#[\"/\".join(f.split(\"/\")[-2:]) for _ in auc]\n",
        "  for i in range(corr.shape[-1]):\n",
        "    #print(i)\n",
        "    #print(corr.shape, len(antibodies))\n",
        "    curr_df = pd.DataFrame.from_dict({\n",
        "        'antibody': [antibodies[i], ] * len(cls),\n",
        "        'correlation': corr[:, i],\n",
        "        'Classifier': cls,\n",
        "    })\n",
        "    d_df_temp = d_df_temp.append(curr_df)\n",
        "  "
      ],
      "metadata": {
        "id": "7POrVX435k6D"
      },
      "execution_count": null,
      "outputs": []
    },
    {
      "cell_type": "code",
      "source": [
        "covid19_selections_columns = list(range(9))\n",
        "plt.figure(figsize=(20, 10))\n",
        "plt.title(\"Continuous Single-Task: Pearson Correlation\", fontsize=30)\n",
        "[plt.axvline(x, color = 'm', linestyle='--') for x in [i+0.5 for i, _ in enumerate(covid19_selections_columns[:-1])]]\n",
        "f = sns.boxplot(x='antibody',\n",
        "                y='correlation',\n",
        "                hue='Classifier',\n",
        "                data=d_df_temp)\n",
        "\n",
        "plt.draw()\n",
        "f.set_xticklabels(f.get_xticklabels(), fontsize=18)\n",
        "f.set_yticklabels(f.get_yticklabels(), fontsize=18)\n",
        "\n",
        "f.set_ylabel(\"Correlation\", fontsize=24)\n",
        "f.set_xlabel(\"Antibody Name\", fontsize=24)\n",
        "f.legend(loc='upper right', fontsize='x-large', bbox_to_anchor=(1.22, 1))\n",
        "\n",
        "print()"
      ],
      "metadata": {
        "id": "XiiHsWqn4iFv"
      },
      "execution_count": null,
      "outputs": []
    },
    {
      "cell_type": "markdown",
      "source": [
        "###Results"
      ],
      "metadata": {
        "id": "OFpCGGf-1dug"
      }
    },
    {
      "cell_type": "markdown",
      "metadata": {
        "id": "zBjfYdWQkIde"
      },
      "source": [
        "## Analysis of the embedding"
      ]
    },
    {
      "cell_type": "markdown",
      "metadata": {
        "id": "BxU952C5kM5-"
      },
      "source": [
        "We sample a neural network from one of the multi-task neural nework and use the last layer as an embedder. In this section we will analyze performance of neural networks trained on different tasks with the new representation."
      ]
    },
    {
      "cell_type": "markdown",
      "metadata": {
        "id": "vnafC1YRkzP0"
      },
      "source": [
        "### Binding Info"
      ]
    },
    {
      "cell_type": "code",
      "metadata": {
        "colab": {
          "base_uri": "https://localhost:8080/"
        },
        "id": "HLbE0V47kHwO",
        "outputId": "24358703-3023-4148-a88e-bede5d118f64"
      },
      "source": [
        "bind_and_antibody_df[[\"bind_avg\"]].hist(bins=50)\n",
        "pass"
      ],
      "execution_count": null,
      "outputs": [
        {
          "output_type": "display_data",
          "data": {
            "image/png": "[encoded data removed]",
            "text/plain": [
              "<Figure size 432x288 with 1 Axes>"
            ]
          },
          "metadata": {
            "tags": [],
            "needs_background": "light"
          }
        }
      ]
    },
    {
      "cell_type": "markdown",
      "metadata": {
        "id": "wxjFmD8lmOih"
      },
      "source": [
        "Notice that bind has not strong correlation with any of the antibodies, which might be concerning. The strongest ones are negativle correlations with *COV2-2499* and *COV2-2832*.\n",
        "\n",
        "Taking that into accound - pearson correlation cannot analyze how combination of different antibodies might interact with binding."
      ]
    },
    {
      "cell_type": "code",
      "metadata": {
        "colab": {
          "base_uri": "https://localhost:8080/"
        },
        "id": "rH24VKn-lxn8",
        "outputId": "a9cbbe01-f4a9-4938-a44b-64e144601377"
      },
      "source": [
        "bind_and_antibody_df.drop(\"site\", axis=1).corr()[[\"bind_avg\"]]"
      ],
      "execution_count": null,
      "outputs": [
        {
          "output_type": "execute_result",
          "data": {
            "text/html": [
              "<div>\n",
              "<style scoped>\n",
              "    .dataframe tbody tr th:only-of-type {\n",
              "        vertical-align: middle;\n",
              "    }\n",
              "\n",
              "    .dataframe tbody tr th {\n",
              "        vertical-align: top;\n",
              "    }\n",
              "\n",
              "    .dataframe thead th {\n",
              "        text-align: right;\n",
              "    }\n",
              "</style>\n",
              "<table border=\"1\" class=\"dataframe\">\n",
              "  <thead>\n",
              "    <tr style=\"text-align: right;\">\n",
              "      <th></th>\n",
              "      <th>bind_avg</th>\n",
              "    </tr>\n",
              "  </thead>\n",
              "  <tbody>\n",
              "    <tr>\n",
              "      <th>bind_avg</th>\n",
              "      <td>1.000000</td>\n",
              "    </tr>\n",
              "    <tr>\n",
              "      <th>expr_avg</th>\n",
              "      <td>0.210459</td>\n",
              "    </tr>\n",
              "    <tr>\n",
              "      <th>COV2-2050_400_escape</th>\n",
              "      <td>-0.106178</td>\n",
              "    </tr>\n",
              "    <tr>\n",
              "      <th>COV2-2082_400_escape</th>\n",
              "      <td>-0.018187</td>\n",
              "    </tr>\n",
              "    <tr>\n",
              "      <th>COV2-2094_400_escape</th>\n",
              "      <td>0.000452</td>\n",
              "    </tr>\n",
              "    <tr>\n",
              "      <th>COV2-2096_400_escape</th>\n",
              "      <td>-0.071211</td>\n",
              "    </tr>\n",
              "    <tr>\n",
              "      <th>COV2-2165_400_escape</th>\n",
              "      <td>-0.164603</td>\n",
              "    </tr>\n",
              "    <tr>\n",
              "      <th>COV2-2479_400_escape</th>\n",
              "      <td>-0.038244</td>\n",
              "    </tr>\n",
              "    <tr>\n",
              "      <th>COV2-2499_400_escape</th>\n",
              "      <td>-0.389288</td>\n",
              "    </tr>\n",
              "    <tr>\n",
              "      <th>COV2-2677_400_escape</th>\n",
              "      <td>0.013943</td>\n",
              "    </tr>\n",
              "    <tr>\n",
              "      <th>COV2-2832_400_escape</th>\n",
              "      <td>-0.241746</td>\n",
              "    </tr>\n",
              "    <tr>\n",
              "      <th>CR3022_400_escape</th>\n",
              "      <td>0.018998</td>\n",
              "    </tr>\n",
              "  </tbody>\n",
              "</table>\n",
              "</div>"
            ],
            "text/plain": [
              "                      bind_avg\n",
              "bind_avg              1.000000\n",
              "expr_avg              0.210459\n",
              "COV2-2050_400_escape -0.106178\n",
              "COV2-2082_400_escape -0.018187\n",
              "COV2-2094_400_escape  0.000452\n",
              "COV2-2096_400_escape -0.071211\n",
              "COV2-2165_400_escape -0.164603\n",
              "COV2-2479_400_escape -0.038244\n",
              "COV2-2499_400_escape -0.389288\n",
              "COV2-2677_400_escape  0.013943\n",
              "COV2-2832_400_escape -0.241746\n",
              "CR3022_400_escape     0.018998"
            ]
          },
          "metadata": {
            "tags": []
          },
          "execution_count": 52
        }
      ]
    },
    {
      "cell_type": "markdown",
      "source": [
        "### Analysis of embedding for binding + otehr antibodies"
      ],
      "metadata": {
        "id": "ObGEVub39Hld"
      }
    },
    {
      "cell_type": "markdown",
      "source": [
        "Load where the models are saved"
      ],
      "metadata": {
        "id": "su4Ble-19Vkq"
      }
    },
    {
      "cell_type": "code",
      "source": [
        "folder = r\"/content/gdrive/MyDrive/COVID19-MSC/new_code_data/temp12/new/\"\n",
        "models = [keras.models.load_model(f\"{folder}model_{_}\") for _ in range(10)]\n",
        "embedders_models = [keras.Model(inputs=_.input, outputs=_.get_layer(name=\"1_th_dense\").output) for _ in models]"
      ],
      "metadata": {
        "id": "1PLVPUU_9TXX"
      },
      "execution_count": null,
      "outputs": []
    },
    {
      "cell_type": "markdown",
      "source": [
        "Load needed dataframes for train. Fix if needed."
      ],
      "metadata": {
        "id": "URSa2mRIBHlC"
      }
    },
    {
      "cell_type": "code",
      "source": [
        "bind_and_antibody_df_file = \"/content/gdrive/MyDrive/COVID19-MSC/data/starr2020_binding_and_escapes.csv\"\n",
        "bind_and_antibody_df = pd.read_csv(bind_and_antibody_df_file)\n",
        "other_antibody_df_file = r\"/content/gdrive/MyDrive/COVID19-MSC/data/starr_cocktails.csv\"\n",
        "other_antibody_df = pd.read_csv(other_antibody_df_file)"
      ],
      "metadata": {
        "id": "q0St04Mu-ZG_"
      },
      "execution_count": null,
      "outputs": []
    },
    {
      "cell_type": "markdown",
      "source": [
        "Files for binding"
      ],
      "metadata": {
        "id": "sgLoQq-0CO9J"
      }
    },
    {
      "cell_type": "code",
      "source": [
        "bind_and_antibody_df_file = \"/content/gdrive/MyDrive/COVID19-MSC/data/starr2020_binding_and_escapes.csv\"\n",
        "bind_and_antibody_df = pd.read_csv(bind_and_antibody_df_file)\n",
        "cols = ['site', 'mutation', 'bind_avg',\n",
        "        'COV2-2050_400_escape', 'COV2-2082_400_escape', 'COV2-2094_400_escape', \n",
        "        'COV2-2096_400_escape', 'COV2-2165_400_escape', 'COV2-2479_400_escape',\n",
        "       'COV2-2499_400_escape', 'COV2-2677_400_escape', 'COV2-2832_400_escape',\n",
        "        ]\n",
        "\n",
        "mutation_binds2 = bind_and_antibody_df[cols]\n",
        "mutation_binds2[\"seq\"] = \"\"\n",
        "for i in range(len(mutation_binds2)):\n",
        "  mut_seq = cov2_seq[330:531]\n",
        "  site = mutation_binds2.loc[i,\"site\"]\n",
        "  mutation = mutation_binds2.loc[i,\"mutation\"]\n",
        "  mutation_binds2.loc[i, \"seq\"] = mut_seq[:site-1]+mutation+mut_seq[site:]\n",
        "mutation_binds = mutation_binds2[[\"site\", \"mutation\", \"bind_avg\",\"seq\"]]"
      ],
      "metadata": {
        "id": "pkoufgFWCOVk"
      },
      "execution_count": null,
      "outputs": []
    },
    {
      "cell_type": "markdown",
      "source": [
        "Helpful functions"
      ],
      "metadata": {
        "id": "Hw-UyG0TCTRQ"
      }
    },
    {
      "cell_type": "code",
      "source": [
        "def get_vocab():\n",
        "    amino_acids = ['A', 'C', 'D', 'E', 'F',\n",
        "                   'G', 'H', 'I', 'K', 'L',\n",
        "                   'M', 'N', 'P', 'Q', 'R',\n",
        "                   'S', 'T', 'V', 'W', 'Y'\n",
        "                  ]\n",
        "    vocabulary = { aa: idx  for idx, aa in enumerate(sorted(amino_acids)) }\n",
        "    return vocabulary\n",
        "    \n",
        "def _featurize(orig_seq):\n",
        "      vocabulary = get_vocab()\n",
        "      seq = np.array([vocabulary[word] for word in orig_seq])\n",
        "      return seq\n"
      ],
      "metadata": {
        "id": "5OCA_5mL9rT5"
      },
      "execution_count": null,
      "outputs": []
    },
    {
      "cell_type": "markdown",
      "source": [
        "Actual training"
      ],
      "metadata": {
        "id": "2qNtWOIaCVbN"
      }
    },
    {
      "cell_type": "code",
      "source": [
        "r = list()\n",
        "x_s = np.array(list(map(_featurize, mutation_binds.seq)))\n",
        "y_s = mutation_binds.bind_avg.to_numpy().reshape(-1, 1)\n",
        "X_train, X_test, y_train, y_test = model_selection.train_test_split(x_s,\n",
        "                                                                    y_s)\n",
        "for _ in range(100):\n",
        "  x_s = np.array(list(map(_featurize, mutation_binds.seq)))\n",
        "  y_s = mutation_binds.bind_avg.to_numpy().reshape(-1, 1)\n",
        "  X_train, X_test, y_train, y_test = model_selection.train_test_split(x_s,\n",
        "                                                                      y_s)\n",
        "  seq_input = keras.Input(shape=(201, ))\n",
        "  embed_seq = keras.layers.Embedding(input_dim=len(get_vocab()),#+1, \n",
        "                                    output_dim=40, \n",
        "                                    name='embed_mutation',\n",
        "                                    input_length=201)(seq_input)\n",
        "  embed_seq = keras.layers.Flatten()(embed_seq)\n",
        "  dense = keras.layers.Dense(64, activation='relu')(embed_seq)\n",
        "  output= keras.layers.Dense(1)(dense)\n",
        "\n",
        "  m = keras.Model(inputs=seq_input,\n",
        "                  outputs=output)\n",
        "  m.compile(optimizer=optimizers.Adam(learning_rate=1e-4),\n",
        "            loss=\"mean_squared_error\")\n",
        "  print(\"+\", _, \"+\")\n",
        "  m.fit(x=X_train, y=y_train,\n",
        "        batch_size=64,\n",
        "        validation_data=(X_test, y_test),\n",
        "        epochs=100,\n",
        "        verbose=0,\n",
        "        callbacks=keras.callbacks.EarlyStopping(patience=3,\n",
        "                                                restore_best_weights=True),\n",
        "        )\n",
        "  r.append((X_test, y_test, m.predict(X_test)))\n",
        "\n",
        "with open(\"./binding_nn.pkl\",  \"wb\") as fh:\n",
        "  pickle.dump(r, fh)\n",
        "\n"
      ],
      "metadata": {
        "id": "EJdHsSWK9lrJ"
      },
      "execution_count": null,
      "outputs": []
    },
    {
      "cell_type": "code",
      "source": [
        "trees_binding2 = list()\n",
        "for i in range(100):\n",
        "  x_s = np.array(list(map(_featurize, mutation_binds.seq)))\n",
        "  y_s = mutation_binds.bind_avg.to_numpy()\n",
        "  X_train, X_test, y_train, y_test = model_selection.train_test_split(x_s,\n",
        "                                                                      y_s)\n",
        "  X_train_curr_summed = list()\n",
        "  X_test_curr_summed = list()\n",
        "  for embedder in embedders_models:\n",
        "    X_train_curr = embedder.predict(np.array(X_train))\n",
        "    X_test_curr = embedder.predict(np.array(X_test))\n",
        "    \n",
        "    X_train_curr_summed.append(X_train_curr)\n",
        "    X_test_curr_summed.append(X_test_curr)\n",
        "  \n",
        "  X_train_curr_summed = sum(X_train_curr_summed)/len(X_train_curr_summed)\n",
        "  X_test_curr_summed = sum(X_test_curr_summed)/len(X_test_curr_summed)\n",
        "\n",
        "  reg = LinearRegression()\n",
        "  reg.fit(X_train_curr, y_train)\n",
        "  trees_binding2.append((X_test, y_test, reg.predict(X_test_curr)))\n",
        "\n",
        "with open(\"/content/gdrive/MyDrive/COVID19-MSC/new_code_data/temp12/new/for_roded/binding_regression_with_embeddings.pkl\",  \"wb\") as fh:\n",
        "  pickle.dump(trees_binding2, fh)"
      ],
      "metadata": {
        "id": "9tK3ED8JEZwR"
      },
      "execution_count": null,
      "outputs": []
    },
    {
      "cell_type": "code",
      "source": [
        "trees_cocktail2 = list()\n",
        "for i in range(100):\n",
        "  cols = ['LY-CoV016', 'REGN10933', 'REGN10987']\n",
        "  x_s = np.array(list(map(_featurize, other_antibody_df.mutated_seq)))\n",
        "  y_s = other_antibody_df[cols].to_numpy()\n",
        "  X_train, X_test, y_train, y_test = model_selection.train_test_split(x_s,\n",
        "                                                                      y_s)\n",
        "  X_train_summed = list()\n",
        "  X_test_summed = list()\n",
        "  for embedder in embedders_models:#[:5]:\n",
        "    X_train_curr = embedder.predict(np.array(X_train))\n",
        "    X_test_curr = embedder.predict(np.array(X_test))\n",
        "    X_train_summed.append(X_train_curr)\n",
        "    X_test_summed.append(X_test_curr)\n",
        "  X_train_curr = sum(X_train_summed)/len(X_train_summed)\n",
        "  X_test_curr = sum(X_test_summed)/len(X_test_summed)\n",
        "  res = list()\n",
        "  for i in range(3):\n",
        "    reg = LinearRegression()\n",
        "    reg.fit(X_train_curr,\n",
        "            y_train[:, i])\n",
        "    res.append((X_test, y_test[:, i], reg.predict(X_test_curr)))\n",
        "  trees_cocktail2.append(res)\n",
        "with open(\"./other_antibodies_linear_regression.pkl\",  \"wb\") as fh:\n",
        "  pickle.dump(r, fh)"
      ],
      "metadata": {
        "id": "vz8YUyAb-PnB"
      },
      "execution_count": null,
      "outputs": []
    },
    {
      "cell_type": "code",
      "source": [
        "r = list()\n",
        "cols = ['LY-CoV016', 'REGN10933', 'REGN10987']\n",
        "\n",
        "x_s = np.array(list(map(_featurize, other_antibody_df.mutated_seq)))\n",
        "y_s = other_antibody_df[cols].to_numpy().reshape(-1, 3)\n",
        "final_res = list()\n",
        "for _ in range(100):\n",
        "  X_train, X_test, y_train, y_test = model_selection.train_test_split(x_s,\n",
        "                                                                      y_s)\n",
        "  res = list()\n",
        "  for i in range(3):\n",
        "    seq_input = keras.Input(shape=(201, ))\n",
        "    embed_seq = keras.layers.Embedding(input_dim=len(get_vocab()),#+1, \n",
        "                                      output_dim=40, \n",
        "                                      name='embed_mutation',\n",
        "                                      input_length=201)(seq_input)\n",
        "    embed_seq = keras.layers.Flatten()(embed_seq)\n",
        "    dense = keras.layers.Dense(64,\n",
        "                               activation='relu',\n",
        "                               )(embed_seq)\n",
        "    output= keras.layers.Dense(1,\n",
        "                               activation=\"sigmoid\"\n",
        "                               )(dense)\n",
        "    m = keras.Model(inputs=seq_input,\n",
        "                    outputs=output)\n",
        "    m.compile(optimizer=optimizers.Adam(learning_rate=1e-4),\n",
        "              loss=\"binary_crossentropy\")\n",
        "    m.fit(X_train, \n",
        "          y_train[:, i],\n",
        "          epochs=100,\n",
        "          validation_data=(X_test, y_test[:, i]),\n",
        "          verbose=1)\n",
        "    res.append((X_test, y_test[:, i], m.predict(X_test)))\n",
        "  final_res.append(res)\n",
        "with open(\"/content/gdrive/MyDrive/COVID19-MSC/new_code_data/temp12/new/other_antibodies_nn.pkl\",  \"wb\") as fh:\n",
        "  pickle.dump(final_res, fh)\n"
      ],
      "metadata": {
        "id": "Ajy09sQBD6vF"
      },
      "execution_count": null,
      "outputs": []
    },
    {
      "cell_type": "code",
      "source": [
        "other_antibodies_files = [\n",
        "                          \"other_antibodies_nn.pkl\",\n",
        "                          \"other_antibodies_linear_regression.pkl\"\n",
        "                          ]\n",
        "unpickled_bind_files = [\n",
        "                        \"binding_nn.pkl\",\n",
        "                        \"binding_regression_with_embeddings\"\n",
        "]                          \n",
        "antibodies_files = [f\"/content/gdrive/MyDrive/COVID19-MSC/new_code_data/temp12/new/{_}\" for _ in other_antibodies_files]\n",
        "unpickled_antibodies_files = [unpickle(_) for _ in antibodies_files]\n",
        "\n",
        "single_task = [ list(map(lambda _: np.corrcoef(_[i][1], _[i][2].squeeze())[0,1], unpickled_antibodies_files[0])) for i in range(3)]\n",
        "binding_nn_no_embed = np.array(list(map(lambda _: np.corrcoef(_[1].squeeze(), _[2].squeeze())[0, 1], unpickled_bind_files[0])))\n",
        "\n",
        "cocktails_regression = [ list(map(lambda _: np.corrcoef(_[i][1], _[i][2])[0,1], unpickled_antibodies_files[1])) for i in range(3)]\n",
        "binding_reg_with_embed = np.array(list(map(lambda _: np.corrcoef(_[1].squeeze(), _[2].squeeze())[0, 1], unpickled_bind_files[1])))\n"
      ],
      "metadata": {
        "id": "4hXgU6BXC8Up"
      },
      "execution_count": null,
      "outputs": []
    },
    {
      "cell_type": "code",
      "source": [
        "df = pd.DataFrame(columns=[\"Source\", \"Correlation\", \"Task\"])\n",
        "single_task_data = np.dstack([np.dstack(single_task), binding_nn_no_embed.reshape(1, -1)])\n",
        "embeding_task_data = np.dstack([np.dstack(cocktails_regression), \n",
        "                                binding_reg_with_embed.reshape(1, -1),]\n",
        "                               )\n",
        "df[\"Source\"] = [\"Single-Task\"] *len(single_task_data.flatten()) + \\\n",
        "               [\"Regression With Embedding\"] * len(embeding_task_data.flatten()) \n",
        "\n",
        "antibodies = ['LY-CoV016', 'REGN10933', 'REGN10987', \"Binding\"]\n",
        "df[\"Task\"] = antibodies*(len(df[\"Source\"])//len(antibodies))\n",
        "df[\"Correlation\"] = list(single_task_data.flatten()) + \\\n",
        "                    list(embeding_task_data.flatten())\n",
        "\n",
        "df = df[df.Source.isin([\"Single-Task\", \"Regression With Embedding\"])]\n",
        "\n",
        "\n",
        "plt.figure(figsize=(20, 10))\n",
        "\n",
        "plt.title(\"Assesing Embedding On Different Tasks\", fontsize=30)\n",
        "f = sns.boxplot(y='Correlation',\n",
        "                x='Task',\n",
        "                hue=\"Source\",\n",
        "                data=df)\n",
        "f.set_ylabel(\"Source\", fontsize=24)\n",
        "f.set_xlabel(\"Task\", fontsize=24)\n",
        "\n",
        "f.legend(loc='upper right',\n",
        "         fontsize='x-large', \n",
        "         bbox_to_anchor=(1, 1)\n",
        "         )\n",
        "f.get_figure().savefig(\"/content/gdrive/MyDrive/COVID19-MSC/new_code_data/temp12/new/embedding-analysis.jpeg\", dpi=300)"
      ],
      "metadata": {
        "id": "yvwIInrQCxc7"
      },
      "execution_count": null,
      "outputs": []
    },
    {
      "cell_type": "markdown",
      "source": [
        "### Variants"
      ],
      "metadata": {
        "id": "HdtefxufI4vS"
      }
    },
    {
      "cell_type": "code",
      "source": [
        "m = unpickle(\"/content/gdrive/MyDrive/COVID19-MSC/new_code_data/temp12/new/multi_cont_40_dist.pkl\")"
      ],
      "metadata": {
        "id": "AS9j6D4PJhtl"
      },
      "execution_count": null,
      "outputs": []
    },
    {
      "cell_type": "code",
      "source": [
        "antibodies = [\n",
        "              \"COV2-2050\",\n",
        "              \"COV2-2832\",\n",
        "              \"COV2-2165\",\n",
        "              \"COV2-2479\",\n",
        "              \"COV2-2096\",\n",
        "              \"COV2-2499\",\n",
        "              \"COV2-2082\",\n",
        "              \"COV2-2677\",\n",
        "              \"COV2-2094\",\n",
        "              ]\n",
        "\n",
        "multi_variants_escapes = m['variants_escapes'].squeeze()\n",
        "variants_cols = [\"Alpha\",\n",
        "                 \"Alpha+E484K\",\n",
        "                 \"Beta\",\n",
        "                 \"Gamma\",\n",
        "                 \"Delta\",\n",
        "                 \"Delta Plus\",\n",
        "                 \"Omicron\",\n",
        "                 ]\n",
        "                 \n",
        "multi_variants_escapes_df = pd.DataFrame(columns = [\"Variant\",\n",
        "                                                    \"Antibody\",\n",
        "                                                    \"Escape\"])\n",
        "for i, variant in enumerate(variants_cols):\n",
        "  for j, anti in enumerate(antibodies):\n",
        "    curr_df =  pd.DataFrame.from_dict({\n",
        "        \"Variant\":[variant, ]*len(multi_variants_escapes),\n",
        "        \"Antibody\":[anti, ]*len(multi_variants_escapes),\n",
        "        \"Escape\": multi_variants_escapes[:, j, i],\n",
        "    })\n",
        "    multi_variants_escapes_df = multi_variants_escapes_df.append(curr_df)"
      ],
      "metadata": {
        "id": "dH3vJyq6JEQY"
      },
      "execution_count": null,
      "outputs": []
    },
    {
      "cell_type": "code",
      "source": [
        "plt.figure(figsize=(20, 10))\n",
        "display_df = multi_variants_escapes_df[(multi_variants_escapes_df.Variant != \"Alpha+E484K\") &\n",
        "                                       (multi_variants_escapes_df.Variant != \"Delta Plus\")] \n",
        "f = sns.boxplot(x='Antibody',\n",
        "                y='Escape',\n",
        "                hue='Variant',\n",
        "                data=display_df,\n",
        "                )\n",
        "[plt.axvline(x, color = 'm', linestyle='--') for x in [i+0.5 for i, _ in enumerate(covid19_selections_columns[:-1])]]\n",
        "f.set_xticklabels(f.get_xticklabels(), fontsize=18)\n",
        "ylabels = [round(_, 4) for _ in plt.yticks()[0]]\n",
        "f.set_yticklabels(ylabels, fontsize=18)\n",
        "f.set_ylabel(\"Escape Prob\", fontsize=24)\n",
        "f.set_xlabel(\"Antibody Name\", fontsize=24)\n",
        "f.legend(loc='upper right', fontsize='x-large', bbox_to_anchor=(1.22, 1))\n",
        "plt.draw()\n",
        "f.get_figure().savefig(\"/content/gdrive/MyDrive/COVID19-MSC/new_code_data/temp12/new/variants-analysis.jpeg\", dpi=300)"
      ],
      "metadata": {
        "id": "sbyRNF0uI62p"
      },
      "execution_count": null,
      "outputs": []
    }
  ]
}